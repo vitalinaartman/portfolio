{
 "cells": [
  {
   "cell_type": "markdown",
   "metadata": {},
   "source": [
    "# Research on apartment sales ads\n",
    "\n",
    "There is the data from a real estate agency. It is an archive of sales ads for realty in St. Petersburg, Russia, and the surrounding areas collected over the past few years. I need to learn how to determine the market value of real estate properties, find the parameters. This will make it possible to build an automated system that is capable of detecting anomalies and fraudulent activity.\n",
    "\n",
    "There are two different types of data available for every apartment for sale. The first type is a user’s input. The second type is received automatically based upon the map data. For example, the distance from the city center, airport, the nearest park or body of water. "
   ]
  },
  {
   "cell_type": "markdown",
   "metadata": {},
   "source": [
    "### Table of Contents <a class=\"anchor\" id=\"contents\"></a>"
   ]
  },
  {
   "cell_type": "markdown",
   "metadata": {},
   "source": [
    "* [Importing libraries + first glance at data](#chapter1)\n",
    "* [Data preprocessing](#chapter2)\n",
    "    * [MISSING VALUES](#section_2_1)\n",
    "    * [DATA TYPE CHANGE](#section_2_2)\n",
    "    * [CALCULATIONS FOR ANALYSIS](#section_2_3)\n",
    "* [Exploratory Data Analysis](#chapter3)\n",
    "    * [TOTAL AREA](#section_3_1)\n",
    "    * [PRICE](#section_3_2)\n",
    "    * [NUMBER OF ROOMS](#section_3_3)\n",
    "    * [CEILING HEIGHT](#section_3_4)\n",
    "    * [TIME FOR SALE](#section_3_5)\n",
    "    * [FACTORS INFLUENCING THE PRICE](#section_3_6)\n",
    "    * [DOWNTOWN AREA](#section_3_7)\n",
    "* [General conclusions](#chapter4)"
   ]
  },
  {
   "cell_type": "markdown",
   "metadata": {},
   "source": [
    "### Importing libraries + first glance at data <a class=\"anchor\" id=\"chapter1\"></a>"
   ]
  },
  {
   "cell_type": "code",
   "execution_count": 1,
   "metadata": {},
   "outputs": [],
   "source": [
    "import pandas as pd\n",
    "import numpy as np\n",
    "import calendar\n",
    "import seaborn as sn\n",
    "import matplotlib.pyplot as plt"
   ]
  },
  {
   "cell_type": "code",
   "execution_count": 2,
   "metadata": {},
   "outputs": [],
   "source": [
    "df = pd.read_csv('real_estate_data_us.csv', sep='\\t')"
   ]
  },
  {
   "cell_type": "code",
   "execution_count": 3,
   "metadata": {},
   "outputs": [
    {
     "name": "stdout",
     "output_type": "stream",
     "text": [
      "<class 'pandas.core.frame.DataFrame'>\n",
      "RangeIndex: 23699 entries, 0 to 23698\n",
      "Data columns (total 22 columns):\n",
      " #   Column             Non-Null Count  Dtype  \n",
      "---  ------             --------------  -----  \n",
      " 0   date_posted        23699 non-null  object \n",
      " 1   days_listed        20518 non-null  float64\n",
      " 2   last_price         23699 non-null  float64\n",
      " 3   bedrooms           23699 non-null  int64  \n",
      " 4   kitchen_area       21421 non-null  float64\n",
      " 5   living_area        21796 non-null  float64\n",
      " 6   total_area         23699 non-null  float64\n",
      " 7   balconies          12180 non-null  float64\n",
      " 8   ceiling_height     14504 non-null  float64\n",
      " 9   floors_total       23613 non-null  float64\n",
      " 10  floor              23699 non-null  int64  \n",
      " 11  total_images       23699 non-null  int64  \n",
      " 12  bike_parking       2775 non-null   object \n",
      " 13  is_studio          23699 non-null  bool   \n",
      " 14  is_open_plan       23699 non-null  bool   \n",
      " 15  locality_name      23650 non-null  object \n",
      " 16  airport_dist       18157 non-null  float64\n",
      " 17  city_center_dist   18180 non-null  float64\n",
      " 18  park_dist          8079 non-null   float64\n",
      " 19  parks_within_3000  18181 non-null  float64\n",
      " 20  pond_dist          9110 non-null   float64\n",
      " 21  ponds_within_3000  18181 non-null  float64\n",
      "dtypes: bool(2), float64(14), int64(3), object(3)\n",
      "memory usage: 3.7+ MB\n"
     ]
    },
    {
     "data": {
      "text/html": [
       "<div>\n",
       "<style scoped>\n",
       "    .dataframe tbody tr th:only-of-type {\n",
       "        vertical-align: middle;\n",
       "    }\n",
       "\n",
       "    .dataframe tbody tr th {\n",
       "        vertical-align: top;\n",
       "    }\n",
       "\n",
       "    .dataframe thead th {\n",
       "        text-align: right;\n",
       "    }\n",
       "</style>\n",
       "<table border=\"1\" class=\"dataframe\">\n",
       "  <thead>\n",
       "    <tr style=\"text-align: right;\">\n",
       "      <th></th>\n",
       "      <th>date_posted</th>\n",
       "      <th>days_listed</th>\n",
       "      <th>last_price</th>\n",
       "      <th>bedrooms</th>\n",
       "      <th>kitchen_area</th>\n",
       "      <th>living_area</th>\n",
       "      <th>total_area</th>\n",
       "      <th>balconies</th>\n",
       "      <th>ceiling_height</th>\n",
       "      <th>floors_total</th>\n",
       "      <th>...</th>\n",
       "      <th>bike_parking</th>\n",
       "      <th>is_studio</th>\n",
       "      <th>is_open_plan</th>\n",
       "      <th>locality_name</th>\n",
       "      <th>airport_dist</th>\n",
       "      <th>city_center_dist</th>\n",
       "      <th>park_dist</th>\n",
       "      <th>parks_within_3000</th>\n",
       "      <th>pond_dist</th>\n",
       "      <th>ponds_within_3000</th>\n",
       "    </tr>\n",
       "  </thead>\n",
       "  <tbody>\n",
       "    <tr>\n",
       "      <th>0</th>\n",
       "      <td>2019-03-07T00:00:00</td>\n",
       "      <td>NaN</td>\n",
       "      <td>260000.0</td>\n",
       "      <td>3</td>\n",
       "      <td>25.0</td>\n",
       "      <td>51.0</td>\n",
       "      <td>108.0</td>\n",
       "      <td>NaN</td>\n",
       "      <td>2.70</td>\n",
       "      <td>16.0</td>\n",
       "      <td>...</td>\n",
       "      <td>NaN</td>\n",
       "      <td>False</td>\n",
       "      <td>False</td>\n",
       "      <td>Saint Petersburg</td>\n",
       "      <td>18863.0</td>\n",
       "      <td>16028.0</td>\n",
       "      <td>482.0</td>\n",
       "      <td>1.0</td>\n",
       "      <td>755.0</td>\n",
       "      <td>2.0</td>\n",
       "    </tr>\n",
       "    <tr>\n",
       "      <th>1</th>\n",
       "      <td>2018-12-04T00:00:00</td>\n",
       "      <td>81.0</td>\n",
       "      <td>67000.0</td>\n",
       "      <td>1</td>\n",
       "      <td>11.0</td>\n",
       "      <td>18.6</td>\n",
       "      <td>40.4</td>\n",
       "      <td>2.0</td>\n",
       "      <td>NaN</td>\n",
       "      <td>11.0</td>\n",
       "      <td>...</td>\n",
       "      <td>NaN</td>\n",
       "      <td>False</td>\n",
       "      <td>False</td>\n",
       "      <td>Shushary village</td>\n",
       "      <td>12817.0</td>\n",
       "      <td>18603.0</td>\n",
       "      <td>NaN</td>\n",
       "      <td>0.0</td>\n",
       "      <td>NaN</td>\n",
       "      <td>0.0</td>\n",
       "    </tr>\n",
       "    <tr>\n",
       "      <th>2</th>\n",
       "      <td>2015-08-20T00:00:00</td>\n",
       "      <td>558.0</td>\n",
       "      <td>103920.0</td>\n",
       "      <td>2</td>\n",
       "      <td>8.3</td>\n",
       "      <td>34.3</td>\n",
       "      <td>56.0</td>\n",
       "      <td>0.0</td>\n",
       "      <td>NaN</td>\n",
       "      <td>5.0</td>\n",
       "      <td>...</td>\n",
       "      <td>NaN</td>\n",
       "      <td>False</td>\n",
       "      <td>False</td>\n",
       "      <td>Saint Petersburg</td>\n",
       "      <td>21741.0</td>\n",
       "      <td>13933.0</td>\n",
       "      <td>90.0</td>\n",
       "      <td>1.0</td>\n",
       "      <td>574.0</td>\n",
       "      <td>2.0</td>\n",
       "    </tr>\n",
       "    <tr>\n",
       "      <th>3</th>\n",
       "      <td>2015-07-24T00:00:00</td>\n",
       "      <td>424.0</td>\n",
       "      <td>1298000.0</td>\n",
       "      <td>3</td>\n",
       "      <td>NaN</td>\n",
       "      <td>NaN</td>\n",
       "      <td>159.0</td>\n",
       "      <td>0.0</td>\n",
       "      <td>NaN</td>\n",
       "      <td>14.0</td>\n",
       "      <td>...</td>\n",
       "      <td>NaN</td>\n",
       "      <td>False</td>\n",
       "      <td>False</td>\n",
       "      <td>Saint Petersburg</td>\n",
       "      <td>28098.0</td>\n",
       "      <td>6800.0</td>\n",
       "      <td>84.0</td>\n",
       "      <td>2.0</td>\n",
       "      <td>234.0</td>\n",
       "      <td>3.0</td>\n",
       "    </tr>\n",
       "    <tr>\n",
       "      <th>4</th>\n",
       "      <td>2018-06-19T00:00:00</td>\n",
       "      <td>121.0</td>\n",
       "      <td>200000.0</td>\n",
       "      <td>2</td>\n",
       "      <td>41.0</td>\n",
       "      <td>32.0</td>\n",
       "      <td>100.0</td>\n",
       "      <td>NaN</td>\n",
       "      <td>3.03</td>\n",
       "      <td>14.0</td>\n",
       "      <td>...</td>\n",
       "      <td>NaN</td>\n",
       "      <td>False</td>\n",
       "      <td>False</td>\n",
       "      <td>Saint Petersburg</td>\n",
       "      <td>31856.0</td>\n",
       "      <td>8098.0</td>\n",
       "      <td>112.0</td>\n",
       "      <td>2.0</td>\n",
       "      <td>48.0</td>\n",
       "      <td>1.0</td>\n",
       "    </tr>\n",
       "  </tbody>\n",
       "</table>\n",
       "<p>5 rows × 22 columns</p>\n",
       "</div>"
      ],
      "text/plain": [
       "           date_posted  days_listed  last_price  bedrooms  kitchen_area  \\\n",
       "0  2019-03-07T00:00:00          NaN    260000.0         3          25.0   \n",
       "1  2018-12-04T00:00:00         81.0     67000.0         1          11.0   \n",
       "2  2015-08-20T00:00:00        558.0    103920.0         2           8.3   \n",
       "3  2015-07-24T00:00:00        424.0   1298000.0         3           NaN   \n",
       "4  2018-06-19T00:00:00        121.0    200000.0         2          41.0   \n",
       "\n",
       "   living_area  total_area  balconies  ceiling_height  floors_total  ...  \\\n",
       "0         51.0       108.0        NaN            2.70          16.0  ...   \n",
       "1         18.6        40.4        2.0             NaN          11.0  ...   \n",
       "2         34.3        56.0        0.0             NaN           5.0  ...   \n",
       "3          NaN       159.0        0.0             NaN          14.0  ...   \n",
       "4         32.0       100.0        NaN            3.03          14.0  ...   \n",
       "\n",
       "   bike_parking  is_studio is_open_plan     locality_name  airport_dist  \\\n",
       "0           NaN      False        False  Saint Petersburg       18863.0   \n",
       "1           NaN      False        False  Shushary village       12817.0   \n",
       "2           NaN      False        False  Saint Petersburg       21741.0   \n",
       "3           NaN      False        False  Saint Petersburg       28098.0   \n",
       "4           NaN      False        False  Saint Petersburg       31856.0   \n",
       "\n",
       "  city_center_dist  park_dist  parks_within_3000  pond_dist  ponds_within_3000  \n",
       "0          16028.0      482.0                1.0      755.0                2.0  \n",
       "1          18603.0        NaN                0.0        NaN                0.0  \n",
       "2          13933.0       90.0                1.0      574.0                2.0  \n",
       "3           6800.0       84.0                2.0      234.0                3.0  \n",
       "4           8098.0      112.0                2.0       48.0                1.0  \n",
       "\n",
       "[5 rows x 22 columns]"
      ]
     },
     "execution_count": 3,
     "metadata": {},
     "output_type": "execute_result"
    }
   ],
   "source": [
    "df.info()\n",
    "df.head()"
   ]
  },
  {
   "cell_type": "markdown",
   "metadata": {},
   "source": [
    "**23 699** objects are in the dataframe, some have missing values. Lets examine them more precisily.\n",
    "- date_posted - seems alright, but probably need to change its format into more pleasant form? (%Y-%m-%d)\n",
    "- day_listed - check for missings, change type from floating to integer\n",
    "- last_price - okay\n",
    "- bedrooms - okay\n",
    "- kitchen_area - there are missing values but they are fine because it is possible that in the apartment there is no separate area for the kithcen\n",
    "- living_area - there are some missings, need check because of there is no living area what the place is? plus extremely low spaces (less then 5)\n",
    "- total_area - seems okay\n",
    "- balconies - there are missing values meaning that there are no balconies. 5 balconies in 50 sq apartment also seems strange. need closer look\n",
    "- ceiling_height -  Missing values could be replaced with mean value because the ceiling height is not something that really varies from place to place\n",
    "- floors_total - change data type, plus there are some missing values which can be replaced with floor number from the next column 'floor', maybe it is not the highest floor in the building but it is enough to replace the missing data. I have also checked if there is a situation when floor is bigger then floors_total - no such values\n",
    "- total_images - seems ok\n",
    "- bike_parking - need change to boolean, missings mean lack of parking so can be replaced with 'False'\n",
    "- is_studio - seems ok\n",
    "- is_open_plan - seems ok\n",
    "- locality_name - 49 entries have no locality_name, it would be easier just to delete them and do not try to retrieve the values. check if they are close to city center of Saint Petersburg\n",
    "- airport_dist - probably more convenient in the form of km, plus there is one cell with 0, need to be replaced with missing values. Other missing values could be replaced according to locality_names (if possible and needed).\n",
    "- city_center_dist - missing values are hard to retrieve, probably I can leave it like this\n",
    "- park_dist - missings mean that there are no parks close. im not sure if I need to replace them\n",
    "- parks_within_3000 - missings can be replaced with 0 because it means that there are no parks with 3 km, change data type from floating to integer\n",
    "- pond_dist and ponds_within_3000 - the same as with parks"
   ]
  },
  {
   "cell_type": "markdown",
   "metadata": {},
   "source": [
    "[back to contents](#contents)"
   ]
  },
  {
   "cell_type": "markdown",
   "metadata": {},
   "source": [
    "### Data preprocessing <a class=\"anchor\" id=\"chapter2\"></a>"
   ]
  },
  {
   "cell_type": "markdown",
   "metadata": {},
   "source": [
    "#### MISSING VALUES <a class=\"anchor\" id=\"section_2_1\"></a>"
   ]
  },
  {
   "cell_type": "markdown",
   "metadata": {},
   "source": [
    "For days I filled missing values with zeros"
   ]
  },
  {
   "cell_type": "code",
   "execution_count": 4,
   "metadata": {},
   "outputs": [],
   "source": [
    "df['days_listed'] = df['days_listed'].fillna(0)"
   ]
  },
  {
   "cell_type": "markdown",
   "metadata": {},
   "source": [
    "For ceiling_height I have replaced missing values with mean"
   ]
  },
  {
   "cell_type": "code",
   "execution_count": 5,
   "metadata": {},
   "outputs": [
    {
     "data": {
      "text/plain": [
       "0"
      ]
     },
     "execution_count": 5,
     "metadata": {},
     "output_type": "execute_result"
    }
   ],
   "source": [
    "height_median = df['ceiling_height'].median()\n",
    "df['ceiling_height'] = df['ceiling_height'].fillna(height_median)\n",
    "df['ceiling_height'] = df['ceiling_height'].round(decimals=2)\n",
    "df['ceiling_height'].isnull().sum()"
   ]
  },
  {
   "cell_type": "markdown",
   "metadata": {},
   "source": [
    "floors_total - I have added the values from the floor column assuming that at least it is the information which can be used in analysis and not to loose data"
   ]
  },
  {
   "cell_type": "code",
   "execution_count": 6,
   "metadata": {},
   "outputs": [
    {
     "data": {
      "text/plain": [
       "0"
      ]
     },
     "execution_count": 6,
     "metadata": {},
     "output_type": "execute_result"
    }
   ],
   "source": [
    "df['floors_total'] = df.apply(\n",
    "    lambda row: row['floor'] if np.isnan(row['floors_total']) else row['floors_total'],\n",
    "    axis=1)\n",
    "df['floors_total'].isnull().sum()"
   ]
  },
  {
   "cell_type": "markdown",
   "metadata": {},
   "source": [
    "For bike parking, distances, areas, parks and ponds I replaced missing values with False or 0."
   ]
  },
  {
   "cell_type": "code",
   "execution_count": 7,
   "metadata": {},
   "outputs": [],
   "source": [
    "df['bike_parking'] = df['bike_parking'].fillna(False)"
   ]
  },
  {
   "cell_type": "code",
   "execution_count": 8,
   "metadata": {},
   "outputs": [],
   "source": [
    "df['parks_within_3000'] = df['parks_within_3000'].fillna(0)"
   ]
  },
  {
   "cell_type": "code",
   "execution_count": 9,
   "metadata": {},
   "outputs": [],
   "source": [
    "df['ponds_within_3000'] = df['ponds_within_3000'].fillna(0)"
   ]
  },
  {
   "cell_type": "markdown",
   "metadata": {},
   "source": [
    "There were some rows  with no locality name, again in order not to loose data I have checked that only Saint Petersburg has distance from the city center no more than 15000 and this allowed me to replace some missing cells with 'Saint Petersburg'. The rest 13 lines I dropped."
   ]
  },
  {
   "cell_type": "code",
   "execution_count": 10,
   "metadata": {},
   "outputs": [
    {
     "data": {
      "text/plain": [
       "0"
      ]
     },
     "execution_count": 10,
     "metadata": {},
     "output_type": "execute_result"
    }
   ],
   "source": [
    "df['locality_name'] = df['locality_name'].fillna(0)\n",
    "locality_new = []\n",
    "for index, row in df.iterrows():\n",
    "    if ((row['city_center_dist'] < 15000) & (row['locality_name'] == 0)):\n",
    "        locality_new.append('Saint Petersburg')\n",
    "    else:\n",
    "        locality_new.append(row['locality_name'])\n",
    "df['locality_new'] = locality_new\n",
    "\n",
    "df.head()\n",
    "df['locality_new'].isnull().sum()"
   ]
  },
  {
   "cell_type": "code",
   "execution_count": 11,
   "metadata": {},
   "outputs": [
    {
     "data": {
      "text/html": [
       "<div>\n",
       "<style scoped>\n",
       "    .dataframe tbody tr th:only-of-type {\n",
       "        vertical-align: middle;\n",
       "    }\n",
       "\n",
       "    .dataframe tbody tr th {\n",
       "        vertical-align: top;\n",
       "    }\n",
       "\n",
       "    .dataframe thead th {\n",
       "        text-align: right;\n",
       "    }\n",
       "</style>\n",
       "<table border=\"1\" class=\"dataframe\">\n",
       "  <thead>\n",
       "    <tr style=\"text-align: right;\">\n",
       "      <th></th>\n",
       "      <th>mean</th>\n",
       "      <th>min</th>\n",
       "      <th>max</th>\n",
       "    </tr>\n",
       "    <tr>\n",
       "      <th>locality_name</th>\n",
       "      <th></th>\n",
       "      <th></th>\n",
       "      <th></th>\n",
       "    </tr>\n",
       "  </thead>\n",
       "  <tbody>\n",
       "    <tr>\n",
       "      <th>Saint Petersburg</th>\n",
       "      <td>11601.291571</td>\n",
       "      <td>181.0</td>\n",
       "      <td>29493.0</td>\n",
       "    </tr>\n",
       "    <tr>\n",
       "      <th>0</th>\n",
       "      <td>11278.902439</td>\n",
       "      <td>1322.0</td>\n",
       "      <td>41294.0</td>\n",
       "    </tr>\n",
       "    <tr>\n",
       "      <th>Shushary village</th>\n",
       "      <td>24243.387615</td>\n",
       "      <td>17012.0</td>\n",
       "      <td>32079.0</td>\n",
       "    </tr>\n",
       "    <tr>\n",
       "      <th>Pargolovo village</th>\n",
       "      <td>19924.776758</td>\n",
       "      <td>17994.0</td>\n",
       "      <td>24415.0</td>\n",
       "    </tr>\n",
       "    <tr>\n",
       "      <th>Strelna village</th>\n",
       "      <td>23376.113636</td>\n",
       "      <td>21813.0</td>\n",
       "      <td>24134.0</td>\n",
       "    </tr>\n",
       "    <tr>\n",
       "      <th>Murino village</th>\n",
       "      <td>21888.000000</td>\n",
       "      <td>21888.0</td>\n",
       "      <td>21888.0</td>\n",
       "    </tr>\n",
       "    <tr>\n",
       "      <th>Pushkin</th>\n",
       "      <td>28745.375000</td>\n",
       "      <td>24311.0</td>\n",
       "      <td>35610.0</td>\n",
       "    </tr>\n",
       "    <tr>\n",
       "      <th>Levashovo village</th>\n",
       "      <td>25727.000000</td>\n",
       "      <td>25727.0</td>\n",
       "      <td>25727.0</td>\n",
       "    </tr>\n",
       "    <tr>\n",
       "      <th>Pesochny village</th>\n",
       "      <td>26475.250000</td>\n",
       "      <td>25867.0</td>\n",
       "      <td>27835.0</td>\n",
       "    </tr>\n",
       "    <tr>\n",
       "      <th>Lisiy Nos village</th>\n",
       "      <td>27613.333333</td>\n",
       "      <td>26368.0</td>\n",
       "      <td>28246.0</td>\n",
       "    </tr>\n",
       "    <tr>\n",
       "      <th>Metallostroy village</th>\n",
       "      <td>27561.348485</td>\n",
       "      <td>26696.0</td>\n",
       "      <td>29217.0</td>\n",
       "    </tr>\n",
       "    <tr>\n",
       "      <th>village Petro-Slavyanka</th>\n",
       "      <td>27165.000000</td>\n",
       "      <td>27165.0</td>\n",
       "      <td>27165.0</td>\n",
       "    </tr>\n",
       "    <tr>\n",
       "      <th>Krasnoye Selo</th>\n",
       "      <td>30020.284091</td>\n",
       "      <td>27317.0</td>\n",
       "      <td>41792.0</td>\n",
       "    </tr>\n",
       "    <tr>\n",
       "      <th>Aleksandrovskaya village</th>\n",
       "      <td>27468.000000</td>\n",
       "      <td>27352.0</td>\n",
       "      <td>27584.0</td>\n",
       "    </tr>\n",
       "    <tr>\n",
       "      <th>Ust-Izhora village</th>\n",
       "      <td>28222.500000</td>\n",
       "      <td>28212.0</td>\n",
       "      <td>28233.0</td>\n",
       "    </tr>\n",
       "    <tr>\n",
       "      <th>Kolpino</th>\n",
       "      <td>32113.771513</td>\n",
       "      <td>29436.0</td>\n",
       "      <td>37477.0</td>\n",
       "    </tr>\n",
       "    <tr>\n",
       "      <th>Petergof</th>\n",
       "      <td>35468.925373</td>\n",
       "      <td>29815.0</td>\n",
       "      <td>49574.0</td>\n",
       "    </tr>\n",
       "    <tr>\n",
       "      <th>Pontonny village</th>\n",
       "      <td>32293.450000</td>\n",
       "      <td>30709.0</td>\n",
       "      <td>33853.0</td>\n",
       "    </tr>\n",
       "    <tr>\n",
       "      <th>Sestroretsk</th>\n",
       "      <td>34624.480874</td>\n",
       "      <td>31130.0</td>\n",
       "      <td>42971.0</td>\n",
       "    </tr>\n",
       "    <tr>\n",
       "      <th>Pavlovsk</th>\n",
       "      <td>33206.921053</td>\n",
       "      <td>31533.0</td>\n",
       "      <td>36445.0</td>\n",
       "    </tr>\n",
       "  </tbody>\n",
       "</table>\n",
       "</div>"
      ],
      "text/plain": [
       "                                  mean      min      max\n",
       "locality_name                                           \n",
       "Saint Petersburg          11601.291571    181.0  29493.0\n",
       "0                         11278.902439   1322.0  41294.0\n",
       "Shushary village          24243.387615  17012.0  32079.0\n",
       "Pargolovo village         19924.776758  17994.0  24415.0\n",
       "Strelna village           23376.113636  21813.0  24134.0\n",
       "Murino village            21888.000000  21888.0  21888.0\n",
       "Pushkin                   28745.375000  24311.0  35610.0\n",
       "Levashovo village         25727.000000  25727.0  25727.0\n",
       "Pesochny village          26475.250000  25867.0  27835.0\n",
       "Lisiy Nos village         27613.333333  26368.0  28246.0\n",
       "Metallostroy village      27561.348485  26696.0  29217.0\n",
       "village Petro-Slavyanka   27165.000000  27165.0  27165.0\n",
       "Krasnoye Selo             30020.284091  27317.0  41792.0\n",
       "Aleksandrovskaya village  27468.000000  27352.0  27584.0\n",
       "Ust-Izhora village        28222.500000  28212.0  28233.0\n",
       "Kolpino                   32113.771513  29436.0  37477.0\n",
       "Petergof                  35468.925373  29815.0  49574.0\n",
       "Pontonny village          32293.450000  30709.0  33853.0\n",
       "Sestroretsk               34624.480874  31130.0  42971.0\n",
       "Pavlovsk                  33206.921053  31533.0  36445.0"
      ]
     },
     "execution_count": 11,
     "metadata": {},
     "output_type": "execute_result"
    }
   ],
   "source": [
    "local = df.pivot_table(index='locality_name', values='city_center_dist', aggfunc=['mean', 'min', 'max'])\n",
    "local.columns = ['mean', 'min', 'max']\n",
    "local.sort_values(by='min', ascending=True).head(20)"
   ]
  },
  {
   "cell_type": "code",
   "execution_count": 12,
   "metadata": {},
   "outputs": [],
   "source": [
    "df.drop(df[df.locality_new == 0].index, inplace=True)"
   ]
  },
  {
   "cell_type": "code",
   "execution_count": 13,
   "metadata": {},
   "outputs": [
    {
     "data": {
      "text/plain": [
       "0.0    15261\n",
       "2.0     4199\n",
       "1.0     4191\n",
       "5.0       13\n",
       "4.0        9\n",
       "3.0        5\n",
       "Name: balconies, dtype: int64"
      ]
     },
     "execution_count": 13,
     "metadata": {},
     "output_type": "execute_result"
    }
   ],
   "source": [
    "df['balconies'] = df['balconies'].fillna(0)\n",
    "df['balconies'].value_counts()\n",
    "df[df['balconies'] > 2]\n",
    "df[df['balconies'] == 5]\n",
    "df.pivot_table(index = 'balconies', values = 'total_area', aggfunc=['mean', 'min', 'max', 'count'])\n",
    "df[(df['balconies'] > 2) & (df['total_area'] < 100)]\n",
    "df.loc[(df['balconies'] > 2) & (df['total_area'] < 150), 'balconies'] = 2\n",
    "df['balconies'].value_counts()"
   ]
  },
  {
   "cell_type": "markdown",
   "metadata": {},
   "source": [
    "#### DATA TYPE CHANGE <a class=\"anchor\" id=\"section_2_2\"></a>"
   ]
  },
  {
   "cell_type": "code",
   "execution_count": 14,
   "metadata": {},
   "outputs": [],
   "source": [
    "df['date_posted'] = pd.to_datetime(df['date_posted'], format='%Y-%m-%d')"
   ]
  },
  {
   "cell_type": "code",
   "execution_count": 15,
   "metadata": {},
   "outputs": [],
   "source": [
    "df['days_listed'] = df['days_listed'].astype('int').round(decimals=0)"
   ]
  },
  {
   "cell_type": "code",
   "execution_count": 16,
   "metadata": {},
   "outputs": [],
   "source": [
    "df['floors_total'] = df['floors_total'].astype('int').round(decimals=0)"
   ]
  },
  {
   "cell_type": "code",
   "execution_count": 17,
   "metadata": {},
   "outputs": [],
   "source": [
    "df['parks_within_3000'] = df['parks_within_3000'].astype('int').round(decimals=0)"
   ]
  },
  {
   "cell_type": "code",
   "execution_count": 18,
   "metadata": {},
   "outputs": [],
   "source": [
    "df['ponds_within_3000'] = df['ponds_within_3000'].astype('int').round(decimals=0)"
   ]
  },
  {
   "cell_type": "code",
   "execution_count": 19,
   "metadata": {},
   "outputs": [],
   "source": [
    "df.dropna(subset=['locality_new'],inplace=True)"
   ]
  },
  {
   "cell_type": "markdown",
   "metadata": {},
   "source": [
    "I have changed days, floors, number of parks and ponds in integers for more convenient usage."
   ]
  },
  {
   "cell_type": "markdown",
   "metadata": {},
   "source": [
    "#### CALCULATIONS FOR ANALYSIS <a class=\"anchor\" id=\"section_2_3\"></a>"
   ]
  },
  {
   "cell_type": "code",
   "execution_count": 20,
   "metadata": {},
   "outputs": [],
   "source": [
    "#price per square meter\n",
    "df['price_per_sqm'] = (df['last_price'] / df['total_area']).round(decimals=2)"
   ]
  },
  {
   "cell_type": "code",
   "execution_count": 21,
   "metadata": {},
   "outputs": [],
   "source": [
    "#extracting months from dates\n",
    "df['month'] = pd.DatetimeIndex(df['date_posted']).month\n",
    "df['month'] = df['month'].apply(lambda x: calendar.month_abbr[x])"
   ]
  },
  {
   "cell_type": "code",
   "execution_count": 22,
   "metadata": {},
   "outputs": [],
   "source": [
    "#extracting weekdays\n",
    "df['weekday'] = df['date_posted'].dt.weekday\n",
    "\n",
    "def dayNameFromWeekday(weekday):\n",
    "    days = [\"Monday\", \"Tuesday\", \"Wednesday\", \"Thursday\", \"Friday\", \"Saturday\", \"Sunday\"]\n",
    "    return days[weekday]\n",
    "df['weekday'] = df['weekday'].apply(dayNameFromWeekday)"
   ]
  },
  {
   "cell_type": "code",
   "execution_count": 23,
   "metadata": {},
   "outputs": [],
   "source": [
    "#extracting years\n",
    "df['year'] = pd.DatetimeIndex(df['date_posted']).year"
   ]
  },
  {
   "cell_type": "code",
   "execution_count": 25,
   "metadata": {},
   "outputs": [
    {
     "data": {
      "text/html": [
       "<div>\n",
       "<style scoped>\n",
       "    .dataframe tbody tr th:only-of-type {\n",
       "        vertical-align: middle;\n",
       "    }\n",
       "\n",
       "    .dataframe tbody tr th {\n",
       "        vertical-align: top;\n",
       "    }\n",
       "\n",
       "    .dataframe thead th {\n",
       "        text-align: right;\n",
       "    }\n",
       "</style>\n",
       "<table border=\"1\" class=\"dataframe\">\n",
       "  <thead>\n",
       "    <tr style=\"text-align: right;\">\n",
       "      <th></th>\n",
       "      <th>date_posted</th>\n",
       "      <th>days_listed</th>\n",
       "      <th>last_price</th>\n",
       "      <th>bedrooms</th>\n",
       "      <th>kitchen_area</th>\n",
       "      <th>living_area</th>\n",
       "      <th>total_area</th>\n",
       "      <th>balconies</th>\n",
       "      <th>ceiling_height</th>\n",
       "      <th>floors_total</th>\n",
       "      <th>...</th>\n",
       "      <th>park_dist</th>\n",
       "      <th>parks_within_3000</th>\n",
       "      <th>pond_dist</th>\n",
       "      <th>ponds_within_3000</th>\n",
       "      <th>locality_new</th>\n",
       "      <th>price_per_sqm</th>\n",
       "      <th>month</th>\n",
       "      <th>weekday</th>\n",
       "      <th>year</th>\n",
       "      <th>floor_category</th>\n",
       "    </tr>\n",
       "  </thead>\n",
       "  <tbody>\n",
       "    <tr>\n",
       "      <th>0</th>\n",
       "      <td>2019-03-07</td>\n",
       "      <td>0</td>\n",
       "      <td>260000.0</td>\n",
       "      <td>3</td>\n",
       "      <td>25.0</td>\n",
       "      <td>51.0</td>\n",
       "      <td>108.0</td>\n",
       "      <td>0.0</td>\n",
       "      <td>2.70</td>\n",
       "      <td>16</td>\n",
       "      <td>...</td>\n",
       "      <td>482.0</td>\n",
       "      <td>1</td>\n",
       "      <td>755.0</td>\n",
       "      <td>2</td>\n",
       "      <td>Saint Petersburg</td>\n",
       "      <td>2407.41</td>\n",
       "      <td>Mar</td>\n",
       "      <td>Thursday</td>\n",
       "      <td>2019</td>\n",
       "      <td>other</td>\n",
       "    </tr>\n",
       "    <tr>\n",
       "      <th>1</th>\n",
       "      <td>2018-12-04</td>\n",
       "      <td>81</td>\n",
       "      <td>67000.0</td>\n",
       "      <td>1</td>\n",
       "      <td>11.0</td>\n",
       "      <td>18.6</td>\n",
       "      <td>40.4</td>\n",
       "      <td>2.0</td>\n",
       "      <td>2.65</td>\n",
       "      <td>11</td>\n",
       "      <td>...</td>\n",
       "      <td>NaN</td>\n",
       "      <td>0</td>\n",
       "      <td>NaN</td>\n",
       "      <td>0</td>\n",
       "      <td>Shushary village</td>\n",
       "      <td>1658.42</td>\n",
       "      <td>Dec</td>\n",
       "      <td>Tuesday</td>\n",
       "      <td>2018</td>\n",
       "      <td>first</td>\n",
       "    </tr>\n",
       "    <tr>\n",
       "      <th>2</th>\n",
       "      <td>2015-08-20</td>\n",
       "      <td>558</td>\n",
       "      <td>103920.0</td>\n",
       "      <td>2</td>\n",
       "      <td>8.3</td>\n",
       "      <td>34.3</td>\n",
       "      <td>56.0</td>\n",
       "      <td>0.0</td>\n",
       "      <td>2.65</td>\n",
       "      <td>5</td>\n",
       "      <td>...</td>\n",
       "      <td>90.0</td>\n",
       "      <td>1</td>\n",
       "      <td>574.0</td>\n",
       "      <td>2</td>\n",
       "      <td>Saint Petersburg</td>\n",
       "      <td>1855.71</td>\n",
       "      <td>Aug</td>\n",
       "      <td>Thursday</td>\n",
       "      <td>2015</td>\n",
       "      <td>other</td>\n",
       "    </tr>\n",
       "    <tr>\n",
       "      <th>3</th>\n",
       "      <td>2015-07-24</td>\n",
       "      <td>424</td>\n",
       "      <td>1298000.0</td>\n",
       "      <td>3</td>\n",
       "      <td>NaN</td>\n",
       "      <td>NaN</td>\n",
       "      <td>159.0</td>\n",
       "      <td>0.0</td>\n",
       "      <td>2.65</td>\n",
       "      <td>14</td>\n",
       "      <td>...</td>\n",
       "      <td>84.0</td>\n",
       "      <td>2</td>\n",
       "      <td>234.0</td>\n",
       "      <td>3</td>\n",
       "      <td>Saint Petersburg</td>\n",
       "      <td>8163.52</td>\n",
       "      <td>Jul</td>\n",
       "      <td>Friday</td>\n",
       "      <td>2015</td>\n",
       "      <td>other</td>\n",
       "    </tr>\n",
       "    <tr>\n",
       "      <th>4</th>\n",
       "      <td>2018-06-19</td>\n",
       "      <td>121</td>\n",
       "      <td>200000.0</td>\n",
       "      <td>2</td>\n",
       "      <td>41.0</td>\n",
       "      <td>32.0</td>\n",
       "      <td>100.0</td>\n",
       "      <td>0.0</td>\n",
       "      <td>3.03</td>\n",
       "      <td>14</td>\n",
       "      <td>...</td>\n",
       "      <td>112.0</td>\n",
       "      <td>2</td>\n",
       "      <td>48.0</td>\n",
       "      <td>1</td>\n",
       "      <td>Saint Petersburg</td>\n",
       "      <td>2000.00</td>\n",
       "      <td>Jun</td>\n",
       "      <td>Tuesday</td>\n",
       "      <td>2018</td>\n",
       "      <td>other</td>\n",
       "    </tr>\n",
       "  </tbody>\n",
       "</table>\n",
       "<p>5 rows × 28 columns</p>\n",
       "</div>"
      ],
      "text/plain": [
       "  date_posted  days_listed  last_price  bedrooms  kitchen_area  living_area  \\\n",
       "0  2019-03-07            0    260000.0         3          25.0         51.0   \n",
       "1  2018-12-04           81     67000.0         1          11.0         18.6   \n",
       "2  2015-08-20          558    103920.0         2           8.3         34.3   \n",
       "3  2015-07-24          424   1298000.0         3           NaN          NaN   \n",
       "4  2018-06-19          121    200000.0         2          41.0         32.0   \n",
       "\n",
       "   total_area  balconies  ceiling_height  floors_total  ...  park_dist  \\\n",
       "0       108.0        0.0            2.70            16  ...      482.0   \n",
       "1        40.4        2.0            2.65            11  ...        NaN   \n",
       "2        56.0        0.0            2.65             5  ...       90.0   \n",
       "3       159.0        0.0            2.65            14  ...       84.0   \n",
       "4       100.0        0.0            3.03            14  ...      112.0   \n",
       "\n",
       "   parks_within_3000  pond_dist  ponds_within_3000      locality_new  \\\n",
       "0                  1      755.0                  2  Saint Petersburg   \n",
       "1                  0        NaN                  0  Shushary village   \n",
       "2                  1      574.0                  2  Saint Petersburg   \n",
       "3                  2      234.0                  3  Saint Petersburg   \n",
       "4                  2       48.0                  1  Saint Petersburg   \n",
       "\n",
       "  price_per_sqm  month   weekday  year  floor_category  \n",
       "0       2407.41    Mar  Thursday  2019           other  \n",
       "1       1658.42    Dec   Tuesday  2018           first  \n",
       "2       1855.71    Aug  Thursday  2015           other  \n",
       "3       8163.52    Jul    Friday  2015           other  \n",
       "4       2000.00    Jun   Tuesday  2018           other  \n",
       "\n",
       "[5 rows x 28 columns]"
      ]
     },
     "execution_count": 25,
     "metadata": {},
     "output_type": "execute_result"
    }
   ],
   "source": [
    "#categorizing by # of floors\n",
    "def floor_category(row):\n",
    "    total = row['floors_total']\n",
    "    number = row['floor']\n",
    "    if number == 1:\n",
    "        return 'first'\n",
    "    elif number == total:\n",
    "        return 'last'\n",
    "    else:\n",
    "        return 'other'\n",
    "\n",
    "df['floor_category'] = df.apply(floor_category, axis=1)\n",
    "df.head()"
   ]
  },
  {
   "cell_type": "code",
   "execution_count": 26,
   "metadata": {},
   "outputs": [
    {
     "name": "stdout",
     "output_type": "stream",
     "text": [
      "Median of ratio living to total area:  0.57\n",
      "Median of ratio kitchen to total area:  0.17\n"
     ]
    }
   ],
   "source": [
    "df['living_ratio'] = (df['living_area'] / df['total_area']).round(decimals=2)\n",
    "df['kitchen_ratio'] = (df['kitchen_area'] / df['total_area']).round(decimals=2)\n",
    "df.head()\n",
    "living_area_median = df['living_ratio'].median()\n",
    "print('Median of ratio living to total area: ', living_area_median)\n",
    "kitchen_area_median = df['kitchen_ratio'].median()\n",
    "print('Median of ratio kitchen to total area: ', kitchen_area_median)"
   ]
  },
  {
   "cell_type": "code",
   "execution_count": 27,
   "metadata": {},
   "outputs": [
    {
     "data": {
      "text/plain": [
       "23678"
      ]
     },
     "execution_count": 27,
     "metadata": {},
     "output_type": "execute_result"
    }
   ],
   "source": [
    "kitchen_studio = df[(df.kitchen_area.isnull())& (df['bedrooms'] == 0)].copy()\n",
    "kitchen_studio['kitchen_area'] = kitchen_studio['kitchen_area'].fillna(0)\n",
    "total_area = df['total_area']\n",
    "kitchen_studio['living_area'] = kitchen_studio['living_area'].fillna(total_area)\n",
    "df = df.drop(df[(df.kitchen_area.isnull()) & (df['bedrooms'] == 0)].index)\n",
    "frames = [df, kitchen_studio]\n",
    "df_new = pd.concat(frames)\n",
    "len(df_new)"
   ]
  },
  {
   "cell_type": "code",
   "execution_count": 28,
   "metadata": {},
   "outputs": [],
   "source": [
    "df_new['living_area'] = df_new['living_area'].fillna(total_area * living_area_median)\n",
    "df_new['kitchen_area'] = df_new['kitchen_area'].fillna(total_area * kitchen_area_median)"
   ]
  },
  {
   "cell_type": "code",
   "execution_count": 29,
   "metadata": {},
   "outputs": [
    {
     "name": "stdout",
     "output_type": "stream",
     "text": [
      "<class 'pandas.core.frame.DataFrame'>\n",
      "Int64Index: 23678 entries, 0 to 23637\n",
      "Data columns (total 30 columns):\n",
      " #   Column             Non-Null Count  Dtype         \n",
      "---  ------             --------------  -----         \n",
      " 0   date_posted        23678 non-null  datetime64[ns]\n",
      " 1   days_listed        23678 non-null  int32         \n",
      " 2   last_price         23678 non-null  float64       \n",
      " 3   bedrooms           23678 non-null  int64         \n",
      " 4   kitchen_area       23678 non-null  float64       \n",
      " 5   living_area        23678 non-null  float64       \n",
      " 6   total_area         23678 non-null  float64       \n",
      " 7   balconies          23678 non-null  float64       \n",
      " 8   ceiling_height     23678 non-null  float64       \n",
      " 9   floors_total       23678 non-null  int32         \n",
      " 10  floor              23678 non-null  int64         \n",
      " 11  total_images       23678 non-null  int64         \n",
      " 12  bike_parking       23678 non-null  bool          \n",
      " 13  is_studio          23678 non-null  bool          \n",
      " 14  is_open_plan       23678 non-null  bool          \n",
      " 15  locality_name      23678 non-null  object        \n",
      " 16  airport_dist       18144 non-null  float64       \n",
      " 17  city_center_dist   18167 non-null  float64       \n",
      " 18  park_dist          8079 non-null   float64       \n",
      " 19  parks_within_3000  23678 non-null  int32         \n",
      " 20  pond_dist          9100 non-null   float64       \n",
      " 21  ponds_within_3000  23678 non-null  int32         \n",
      " 22  locality_new       23678 non-null  object        \n",
      " 23  price_per_sqm      23678 non-null  float64       \n",
      " 24  month              23678 non-null  object        \n",
      " 25  weekday            23678 non-null  object        \n",
      " 26  year               23678 non-null  int64         \n",
      " 27  floor_category     23678 non-null  object        \n",
      " 28  living_ratio       21778 non-null  float64       \n",
      " 29  kitchen_ratio      21405 non-null  float64       \n",
      "dtypes: bool(3), datetime64[ns](1), float64(13), int32(4), int64(4), object(5)\n",
      "memory usage: 4.8+ MB\n"
     ]
    }
   ],
   "source": [
    "df_new.info()"
   ]
  },
  {
   "cell_type": "markdown",
   "metadata": {},
   "source": [
    "[back to contents](#contents)"
   ]
  },
  {
   "cell_type": "markdown",
   "metadata": {},
   "source": [
    "### Exploratory data analysis <a class=\"anchor\" id=\"chapter3\"></a>"
   ]
  },
  {
   "cell_type": "markdown",
   "metadata": {},
   "source": [
    "### TOTAL AREA <a class=\"anchor\" id=\"section_3_1\"></a>"
   ]
  },
  {
   "cell_type": "code",
   "execution_count": 30,
   "metadata": {},
   "outputs": [
    {
     "data": {
      "image/png": "[encoded data removed]",
      "text/plain": [
       "<Figure size 432x288 with 1 Axes>"
      ]
     },
     "metadata": {
      "needs_background": "light"
     },
     "output_type": "display_data"
    },
    {
     "name": "stdout",
     "output_type": "stream",
     "text": [
      "Mean: 60.34\n",
      "Median: 52.0\n"
     ]
    }
   ],
   "source": [
    "df_new.hist('total_area', bins=100)\n",
    "plt.show()\n",
    "print('Mean:',round(df_new['total_area'].mean(), 2))\n",
    "print('Median:', df_new['total_area'].median())"
   ]
  },
  {
   "cell_type": "markdown",
   "metadata": {},
   "source": [
    "'Total_area' - what we see here: the biggest number of apartments are around 45-50 sq.m. We also have several outliers:\n",
    "- too small numbers: there are apartments with the area less then 20 sq. m. There could be this kind of apartments like mini-mini studios for one person to live;\n",
    "- too big numbers: apartments over 400 sq.m. are really rare but still have a right for existence. \n",
    "As we can see mean and median are quite close to each other, I am not sure if we really need to get rid of too small and too big apartments."
   ]
  },
  {
   "cell_type": "markdown",
   "metadata": {},
   "source": [
    "## PRICE <a class=\"anchor\" id=\"section_3_2\"></a>"
   ]
  },
  {
   "cell_type": "code",
   "execution_count": 31,
   "metadata": {},
   "outputs": [
    {
     "data": {
      "image/png": "[encoded data removed]",
      "text/plain": [
       "<Figure size 432x288 with 1 Axes>"
      ]
     },
     "metadata": {
      "needs_background": "light"
     },
     "output_type": "display_data"
    },
    {
     "name": "stdout",
     "output_type": "stream",
     "text": [
      "Mean: 130861.71\n",
      "Median: 93000.0\n"
     ]
    }
   ],
   "source": [
    "df.hist('last_price', bins=100)\n",
    "plt.show()\n",
    "print('Mean:', round(df_new['last_price'].mean(), 2))\n",
    "print('Median:', df_new['last_price'].median())"
   ]
  },
  {
   "cell_type": "code",
   "execution_count": 32,
   "metadata": {},
   "outputs": [],
   "source": [
    "new_price_df = df_new[(df_new['locality_new']=='Saint Petersburg') & (df_new['bedrooms'] == 2) & (df_new['total_area'] > 100)]\n",
    "len(new_price_df)\n",
    "new_price_mean = new_price_df['last_price'].mean()\n",
    "df_new['last_price'] = df_new['last_price'].replace(244, new_price_mean)"
   ]
  },
  {
   "cell_type": "markdown",
   "metadata": {},
   "source": [
    "I found extremely low number - 244, it is obviously wrong value and not an outlier.  In order to get rid of it I have calculated the mean price for aprarments of similar type: 2 bedroom, located in the city, bigger than 100 sq.m."
   ]
  },
  {
   "cell_type": "markdown",
   "metadata": {},
   "source": [
    "## NUMBER OF ROOMS <a class=\"anchor\" id=\"section_3_3\"></a>"
   ]
  },
  {
   "cell_type": "code",
   "execution_count": 33,
   "metadata": {},
   "outputs": [
    {
     "data": {
      "image/png": "[encoded data removed]",
      "text/plain": [
       "<Figure size 432x288 with 1 Axes>"
      ]
     },
     "metadata": {
      "needs_background": "light"
     },
     "output_type": "display_data"
    }
   ],
   "source": [
    "df_new.hist('bedrooms', bins=20)\n",
    "plt.show()"
   ]
  },
  {
   "cell_type": "code",
   "execution_count": 34,
   "metadata": {},
   "outputs": [],
   "source": [
    "df_new.pivot_table(index = 'bedrooms', values = 'total_area', aggfunc=['mean', 'min', 'max', 'count'])\n",
    "df_new[(df_new['bedrooms'] == 0) & (df_new['total_area'] > 100)]\n",
    "df_new.drop(df_new.loc[df_new['total_area']==371].index, inplace=True)"
   ]
  },
  {
   "cell_type": "code",
   "execution_count": 35,
   "metadata": {},
   "outputs": [
    {
     "name": "stdout",
     "output_type": "stream",
     "text": [
      "Mean: 2.07\n",
      "Median: 2.0\n"
     ]
    }
   ],
   "source": [
    "print('Mean:', round(df_new['bedrooms'].mean(),2))\n",
    "print('Median:', df_new['bedrooms'].median())"
   ]
  },
  {
   "cell_type": "markdown",
   "metadata": {},
   "source": [
    "So I see one outlier which seems really strange - no bedrooms with 370 sq m area. Additional checks show that there is no information about kitchen, living area. Maybe it is not a place for living, maybe some commercial estate  or it is a mistake in data. So I got rid of it."
   ]
  },
  {
   "cell_type": "markdown",
   "metadata": {},
   "source": [
    "## CEILING HEIGHT <a class=\"anchor\" id=\"section_3_4\"></a>"
   ]
  },
  {
   "cell_type": "code",
   "execution_count": 36,
   "metadata": {},
   "outputs": [
    {
     "data": {
      "image/png": "[encoded data removed]",
      "text/plain": [
       "<Figure size 432x288 with 1 Axes>"
      ]
     },
     "metadata": {
      "needs_background": "light"
     },
     "output_type": "display_data"
    }
   ],
   "source": [
    "df_new.hist('ceiling_height', bins=10)\n",
    "plt.show()"
   ]
  },
  {
   "cell_type": "code",
   "execution_count": 37,
   "metadata": {},
   "outputs": [],
   "source": [
    "df_new.loc[df_new['ceiling_height'] < 2, 'ceiling_height'] = height_median\n",
    "df_new.loc[df_new['ceiling_height'] > 5, 'ceiling_height'] = height_median"
   ]
  },
  {
   "cell_type": "code",
   "execution_count": 38,
   "metadata": {},
   "outputs": [
    {
     "data": {
      "image/png": "[encoded data removed]",
      "text/plain": [
       "<Figure size 432x288 with 1 Axes>"
      ]
     },
     "metadata": {
      "needs_background": "light"
     },
     "output_type": "display_data"
    },
    {
     "name": "stdout",
     "output_type": "stream",
     "text": [
      "Mean: 2.7\n",
      "Median: 2.65\n"
     ]
    }
   ],
   "source": [
    "df_new.hist('ceiling_height', bins=10)\n",
    "plt.show()\n",
    "print('Mean:', round(df_new['ceiling_height'].mean(), 2))\n",
    "print('Median:', df_new['ceiling_height'].median())"
   ]
  },
  {
   "cell_type": "markdown",
   "metadata": {},
   "source": [
    "There are 3 entries with ceiling height 1, 1.2, 1,75 it is too small for average person and vice verse 100 metres and every ceiling higher 5-7 metres is hard to believe. I have replaced them with median value - I think it suites more because it is not effected by high values for big apartments."
   ]
  },
  {
   "cell_type": "markdown",
   "metadata": {},
   "source": [
    "## TIME FOR SALE  <a class=\"anchor\" id=\"section_3_5\"></a>"
   ]
  },
  {
   "cell_type": "code",
   "execution_count": 39,
   "metadata": {},
   "outputs": [
    {
     "data": {
      "image/png": "[encoded data removed]",
      "text/plain": [
       "<Figure size 432x288 with 1 Axes>"
      ]
     },
     "metadata": {
      "needs_background": "light"
     },
     "output_type": "display_data"
    },
    {
     "name": "stdout",
     "output_type": "stream",
     "text": [
      "Mean: 156.61\n",
      "Median: 74.0\n",
      "Mean for ads listed at least one day: 180.91\n",
      "Median for ads listed at least one day: 95.0\n",
      "Mode for ads listed at least one day: 0    45\n",
      "dtype: int32\n",
      "Share of ads listed less than a day: 13.43%\n"
     ]
    }
   ],
   "source": [
    "df_new.hist('days_listed', bins=100)\n",
    "plt.show()\n",
    "print('Mean:', round(df_new['days_listed'].mean(),2))\n",
    "print('Median:',df_new['days_listed'].median())\n",
    "print('Mean for ads listed at least one day:', round(df_new[df_new['days_listed'] != 0]['days_listed'].mean(), 2))\n",
    "print('Median for ads listed at least one day:', round(df_new[df_new['days_listed'] != 0]['days_listed'].median(), 2))\n",
    "print('Mode for ads listed at least one day:', df_new[df_new['days_listed'] != 0]['days_listed'].mode())\n",
    "print('Share of ads listed less than a day:','{:,.2%}'.format(df_new[df_new['days_listed'] == 0]['days_listed'].count() / len(df_new)))"
   ]
  },
  {
   "cell_type": "markdown",
   "metadata": {},
   "source": [
    "So what we see here. There is a significant share of ads listed less than a day - more than 10%. Difficult to decide whether it is a system mistake or indeed these are very desirable apartments which flew as soon as they entered the market. So I assume it is important to exclude these ads from the analysis of time for sale.\n",
    "Here we are: three numbers showing different values.\n",
    "Mean 180,9 and histogram show that the mean values is strongly affected by extremely long listed ads. I assume we can name all **the ads listed more than 180,9 as extra slow**.  \n",
    "As **for the quickest I would choose mode value 45 days** here because it shows the most frequent value in the table and for ads it is suitable measure to evaluate their effectiveness."
   ]
  },
  {
   "cell_type": "markdown",
   "metadata": {},
   "source": [
    "[back to contents](#contents)"
   ]
  },
  {
   "cell_type": "markdown",
   "metadata": {},
   "source": [
    "### FACTORS INFLUENCING THE PRICE <a class=\"anchor\" id=\"section_3_6\"></a>"
   ]
  },
  {
   "cell_type": "code",
   "execution_count": 40,
   "metadata": {},
   "outputs": [
    {
     "data": {
      "text/html": [
       "<div>\n",
       "<style scoped>\n",
       "    .dataframe tbody tr th:only-of-type {\n",
       "        vertical-align: middle;\n",
       "    }\n",
       "\n",
       "    .dataframe tbody tr th {\n",
       "        vertical-align: top;\n",
       "    }\n",
       "\n",
       "    .dataframe thead th {\n",
       "        text-align: right;\n",
       "    }\n",
       "</style>\n",
       "<table border=\"1\" class=\"dataframe\">\n",
       "  <thead>\n",
       "    <tr style=\"text-align: right;\">\n",
       "      <th></th>\n",
       "      <th>price_per_sqm</th>\n",
       "      <th>bedrooms</th>\n",
       "      <th>floor</th>\n",
       "      <th>city_center_dist</th>\n",
       "      <th>last_price</th>\n",
       "    </tr>\n",
       "  </thead>\n",
       "  <tbody>\n",
       "    <tr>\n",
       "      <th>0</th>\n",
       "      <td>2407.41</td>\n",
       "      <td>3</td>\n",
       "      <td>8</td>\n",
       "      <td>16028.0</td>\n",
       "      <td>260000.0</td>\n",
       "    </tr>\n",
       "    <tr>\n",
       "      <th>1</th>\n",
       "      <td>1658.42</td>\n",
       "      <td>1</td>\n",
       "      <td>1</td>\n",
       "      <td>18603.0</td>\n",
       "      <td>67000.0</td>\n",
       "    </tr>\n",
       "    <tr>\n",
       "      <th>2</th>\n",
       "      <td>1855.71</td>\n",
       "      <td>2</td>\n",
       "      <td>4</td>\n",
       "      <td>13933.0</td>\n",
       "      <td>103920.0</td>\n",
       "    </tr>\n",
       "    <tr>\n",
       "      <th>3</th>\n",
       "      <td>8163.52</td>\n",
       "      <td>3</td>\n",
       "      <td>9</td>\n",
       "      <td>6800.0</td>\n",
       "      <td>1298000.0</td>\n",
       "    </tr>\n",
       "    <tr>\n",
       "      <th>4</th>\n",
       "      <td>2000.00</td>\n",
       "      <td>2</td>\n",
       "      <td>13</td>\n",
       "      <td>8098.0</td>\n",
       "      <td>200000.0</td>\n",
       "    </tr>\n",
       "  </tbody>\n",
       "</table>\n",
       "</div>"
      ],
      "text/plain": [
       "   price_per_sqm  bedrooms  floor  city_center_dist  last_price\n",
       "0        2407.41         3      8           16028.0    260000.0\n",
       "1        1658.42         1      1           18603.0     67000.0\n",
       "2        1855.71         2      4           13933.0    103920.0\n",
       "3        8163.52         3      9            6800.0   1298000.0\n",
       "4        2000.00         2     13            8098.0    200000.0"
      ]
     },
     "execution_count": 40,
     "metadata": {},
     "output_type": "execute_result"
    }
   ],
   "source": [
    "df_price = df_new[['price_per_sqm', 'bedrooms', 'floor', 'city_center_dist', 'last_price']]\n",
    "df_price.head()"
   ]
  },
  {
   "cell_type": "code",
   "execution_count": 41,
   "metadata": {},
   "outputs": [
    {
     "data": {
      "text/html": [
       "<div>\n",
       "<style scoped>\n",
       "    .dataframe tbody tr th:only-of-type {\n",
       "        vertical-align: middle;\n",
       "    }\n",
       "\n",
       "    .dataframe tbody tr th {\n",
       "        vertical-align: top;\n",
       "    }\n",
       "\n",
       "    .dataframe thead th {\n",
       "        text-align: right;\n",
       "    }\n",
       "</style>\n",
       "<table border=\"1\" class=\"dataframe\">\n",
       "  <thead>\n",
       "    <tr style=\"text-align: right;\">\n",
       "      <th></th>\n",
       "      <th>price_per_sqm</th>\n",
       "      <th>bedrooms</th>\n",
       "      <th>floor</th>\n",
       "      <th>city_center_dist</th>\n",
       "      <th>last_price</th>\n",
       "    </tr>\n",
       "  </thead>\n",
       "  <tbody>\n",
       "    <tr>\n",
       "      <th>price_per_sqm</th>\n",
       "      <td>1.000000</td>\n",
       "      <td>0.055714</td>\n",
       "      <td>0.129114</td>\n",
       "      <td>-0.317716</td>\n",
       "      <td>0.736473</td>\n",
       "    </tr>\n",
       "    <tr>\n",
       "      <th>bedrooms</th>\n",
       "      <td>0.055714</td>\n",
       "      <td>1.000000</td>\n",
       "      <td>-0.150761</td>\n",
       "      <td>-0.184975</td>\n",
       "      <td>0.364191</td>\n",
       "    </tr>\n",
       "    <tr>\n",
       "      <th>floor</th>\n",
       "      <td>0.129114</td>\n",
       "      <td>-0.150761</td>\n",
       "      <td>1.000000</td>\n",
       "      <td>0.009221</td>\n",
       "      <td>0.027114</td>\n",
       "    </tr>\n",
       "    <tr>\n",
       "      <th>city_center_dist</th>\n",
       "      <td>-0.317716</td>\n",
       "      <td>-0.184975</td>\n",
       "      <td>0.009221</td>\n",
       "      <td>1.000000</td>\n",
       "      <td>-0.206822</td>\n",
       "    </tr>\n",
       "    <tr>\n",
       "      <th>last_price</th>\n",
       "      <td>0.736473</td>\n",
       "      <td>0.364191</td>\n",
       "      <td>0.027114</td>\n",
       "      <td>-0.206822</td>\n",
       "      <td>1.000000</td>\n",
       "    </tr>\n",
       "  </tbody>\n",
       "</table>\n",
       "</div>"
      ],
      "text/plain": [
       "                  price_per_sqm  bedrooms     floor  city_center_dist  \\\n",
       "price_per_sqm          1.000000  0.055714  0.129114         -0.317716   \n",
       "bedrooms               0.055714  1.000000 -0.150761         -0.184975   \n",
       "floor                  0.129114 -0.150761  1.000000          0.009221   \n",
       "city_center_dist      -0.317716 -0.184975  0.009221          1.000000   \n",
       "last_price             0.736473  0.364191  0.027114         -0.206822   \n",
       "\n",
       "                  last_price  \n",
       "price_per_sqm       0.736473  \n",
       "bedrooms            0.364191  \n",
       "floor               0.027114  \n",
       "city_center_dist   -0.206822  \n",
       "last_price          1.000000  "
      ]
     },
     "execution_count": 41,
     "metadata": {},
     "output_type": "execute_result"
    }
   ],
   "source": [
    "df_price.corr()"
   ]
  },
  {
   "cell_type": "code",
   "execution_count": 42,
   "metadata": {},
   "outputs": [
    {
     "data": {
      "image/png": "[encoded data removed]",
      "text/plain": [
       "<Figure size 648x648 with 25 Axes>"
      ]
     },
     "metadata": {
      "needs_background": "light"
     },
     "output_type": "display_data"
    }
   ],
   "source": [
    "pd.plotting.scatter_matrix(df_price, figsize=(9, 9))\n",
    "plt.show()"
   ]
  },
  {
   "cell_type": "code",
   "execution_count": 43,
   "metadata": {},
   "outputs": [
    {
     "data": {
      "image/png": "[encoded data removed]",
      "text/plain": [
       "<Figure size 432x288 with 2 Axes>"
      ]
     },
     "metadata": {
      "needs_background": "light"
     },
     "output_type": "display_data"
    }
   ],
   "source": [
    "corr_matrix = df_price.corr()\n",
    "sn.heatmap(corr_matrix, annot=True)\n",
    "plt.show()"
   ]
  },
  {
   "cell_type": "markdown",
   "metadata": {},
   "source": [
    "The strongest and the most logic correlation is between price and price per sq.m. The more expensive is 1 sq.m., the more expensive is the whole apartment.  \n",
    "There is a kind of tendency between number of bedrooms and the last price but it is weak.  \n",
    "With number of floor and distance from city center there is no correlation, but interesting that the coeffecient between proximity to city center and price is negative, which means the closer to the center, the higher the prices."
   ]
  },
  {
   "cell_type": "code",
   "execution_count": 44,
   "metadata": {},
   "outputs": [
    {
     "data": {
      "image/png": "[encoded data removed]",
      "text/plain": [
       "<Figure size 720x360 with 1 Axes>"
      ]
     },
     "metadata": {
      "needs_background": "light"
     },
     "output_type": "display_data"
    }
   ],
   "source": [
    "weekday = df_new.pivot_table(index='weekday', values='last_price', aggfunc=['mean', 'median', 'count'])\n",
    "weekday.columns = ['Mean', 'Median', 'Number of ads']\n",
    "days = ['Monday', 'Tuesday', 'Wednesday', 'Thursday', 'Friday', 'Saturday', 'Sunday']\n",
    "weekday = weekday.reindex(days)\n",
    "weekday.plot(y='Mean', kind='bar', figsize=(10, 5))\n",
    "plt.show()"
   ]
  },
  {
   "cell_type": "markdown",
   "metadata": {},
   "source": [
    "Comparing mean values by weekdays show that there is no significant difference between average price and day of listing."
   ]
  },
  {
   "cell_type": "code",
   "execution_count": 45,
   "metadata": {},
   "outputs": [
    {
     "data": {
      "image/png": "[encoded data removed]",
      "text/plain": [
       "<Figure size 720x360 with 1 Axes>"
      ]
     },
     "metadata": {
      "needs_background": "light"
     },
     "output_type": "display_data"
    }
   ],
   "source": [
    "month = df_new.pivot_table(index='month', values='last_price', aggfunc=['mean', 'median', 'count'])\n",
    "month.columns = ['Mean', 'Median', 'Number of ads']\n",
    "month.sort_values(by='Mean', ascending=False)\n",
    "months = ['Jan', 'Feb', 'Mar', 'Apr', 'May', 'Jun', 'Jul', 'Aug', 'Sep', 'Oct', 'Nov', 'Dec']\n",
    "month = month.reindex(months)\n",
    "month.plot(y='Mean', kind='line', figsize=(10, 5))\n",
    "plt.show()"
   ]
  },
  {
   "cell_type": "markdown",
   "metadata": {},
   "source": [
    "What we see from month of listing is that average prices are quite seasonal - there are obvious peaks in April and September - these months are first after closing quarters, maybe buyers have more money. As for December and January they are traditionally slow from the point of the business, it could explain higher prices."
   ]
  },
  {
   "cell_type": "code",
   "execution_count": 46,
   "metadata": {},
   "outputs": [
    {
     "data": {
      "text/html": [
       "<div>\n",
       "<style scoped>\n",
       "    .dataframe tbody tr th:only-of-type {\n",
       "        vertical-align: middle;\n",
       "    }\n",
       "\n",
       "    .dataframe tbody tr th {\n",
       "        vertical-align: top;\n",
       "    }\n",
       "\n",
       "    .dataframe thead th {\n",
       "        text-align: right;\n",
       "    }\n",
       "</style>\n",
       "<table border=\"1\" class=\"dataframe\">\n",
       "  <thead>\n",
       "    <tr style=\"text-align: right;\">\n",
       "      <th></th>\n",
       "      <th>Mean</th>\n",
       "      <th>Median</th>\n",
       "      <th>Number of ads</th>\n",
       "    </tr>\n",
       "    <tr>\n",
       "      <th>year</th>\n",
       "      <th></th>\n",
       "      <th></th>\n",
       "      <th></th>\n",
       "    </tr>\n",
       "  </thead>\n",
       "  <tbody>\n",
       "    <tr>\n",
       "      <th>2014</th>\n",
       "      <td>241742.715328</td>\n",
       "      <td>154000.0</td>\n",
       "      <td>137</td>\n",
       "    </tr>\n",
       "    <tr>\n",
       "      <th>2015</th>\n",
       "      <td>171922.517300</td>\n",
       "      <td>107000.0</td>\n",
       "      <td>1185</td>\n",
       "    </tr>\n",
       "    <tr>\n",
       "      <th>2016</th>\n",
       "      <td>136635.206909</td>\n",
       "      <td>91000.0</td>\n",
       "      <td>2779</td>\n",
       "    </tr>\n",
       "    <tr>\n",
       "      <th>2017</th>\n",
       "      <td>131706.846689</td>\n",
       "      <td>90000.0</td>\n",
       "      <td>8186</td>\n",
       "    </tr>\n",
       "    <tr>\n",
       "      <th>2018</th>\n",
       "      <td>118891.467513</td>\n",
       "      <td>91000.0</td>\n",
       "      <td>8511</td>\n",
       "    </tr>\n",
       "    <tr>\n",
       "      <th>2019</th>\n",
       "      <td>135823.227014</td>\n",
       "      <td>101000.0</td>\n",
       "      <td>2879</td>\n",
       "    </tr>\n",
       "  </tbody>\n",
       "</table>\n",
       "</div>"
      ],
      "text/plain": [
       "               Mean    Median  Number of ads\n",
       "year                                        \n",
       "2014  241742.715328  154000.0            137\n",
       "2015  171922.517300  107000.0           1185\n",
       "2016  136635.206909   91000.0           2779\n",
       "2017  131706.846689   90000.0           8186\n",
       "2018  118891.467513   91000.0           8511\n",
       "2019  135823.227014  101000.0           2879"
      ]
     },
     "execution_count": 46,
     "metadata": {},
     "output_type": "execute_result"
    }
   ],
   "source": [
    "year = df_new.pivot_table(index='year', values='last_price', aggfunc=['mean', 'median', 'count'])\n",
    "year.columns = ['Mean', 'Median', 'Number of ads']\n",
    "year = year.sort_index()\n",
    "year"
   ]
  },
  {
   "cell_type": "code",
   "execution_count": 47,
   "metadata": {},
   "outputs": [
    {
     "data": {
      "image/png": "[encoded data removed]",
      "text/plain": [
       "<Figure size 720x360 with 1 Axes>"
      ]
     },
     "metadata": {
      "needs_background": "light"
     },
     "output_type": "display_data"
    },
    {
     "data": {
      "image/png": "[encoded data removed]",
      "text/plain": [
       "<Figure size 720x360 with 1 Axes>"
      ]
     },
     "metadata": {
      "needs_background": "light"
     },
     "output_type": "display_data"
    }
   ],
   "source": [
    "year.plot(y='Mean', kind='line', figsize=(10, 5))\n",
    "plt.show()\n",
    "year.plot(y='Number of ads', kind='bar', figsize=(10, 5))\n",
    "plt.show()"
   ]
  },
  {
   "cell_type": "markdown",
   "metadata": {},
   "source": [
    "From the very first glance we may assume that the prices dropped down since 2014 but if we check at the same time the number of published ads we will see that in 2014-2015 years there were very low number of ads - this data doesnt alow to make conclusions about price reduction. "
   ]
  },
  {
   "cell_type": "code",
   "execution_count": 48,
   "metadata": {},
   "outputs": [
    {
     "data": {
      "text/html": [
       "<div>\n",
       "<style scoped>\n",
       "    .dataframe tbody tr th:only-of-type {\n",
       "        vertical-align: middle;\n",
       "    }\n",
       "\n",
       "    .dataframe tbody tr th {\n",
       "        vertical-align: top;\n",
       "    }\n",
       "\n",
       "    .dataframe thead th {\n",
       "        text-align: right;\n",
       "    }\n",
       "</style>\n",
       "<table border=\"1\" class=\"dataframe\">\n",
       "  <thead>\n",
       "    <tr style=\"text-align: right;\">\n",
       "      <th></th>\n",
       "      <th>Number of ads</th>\n",
       "      <th>Mean</th>\n",
       "      <th>Minimum price</th>\n",
       "      <th>Maximum price</th>\n",
       "    </tr>\n",
       "    <tr>\n",
       "      <th>locality_new</th>\n",
       "      <th></th>\n",
       "      <th></th>\n",
       "      <th></th>\n",
       "      <th></th>\n",
       "    </tr>\n",
       "  </thead>\n",
       "  <tbody>\n",
       "    <tr>\n",
       "      <th>Saint Petersburg</th>\n",
       "      <td>15748</td>\n",
       "      <td>161207.087794</td>\n",
       "      <td>23800.0</td>\n",
       "      <td>15260000.0</td>\n",
       "    </tr>\n",
       "    <tr>\n",
       "      <th>Murino village</th>\n",
       "      <td>556</td>\n",
       "      <td>73047.228417</td>\n",
       "      <td>34600.0</td>\n",
       "      <td>170000.0</td>\n",
       "    </tr>\n",
       "    <tr>\n",
       "      <th>Shushary village</th>\n",
       "      <td>440</td>\n",
       "      <td>82161.636364</td>\n",
       "      <td>30000.0</td>\n",
       "      <td>219800.0</td>\n",
       "    </tr>\n",
       "    <tr>\n",
       "      <th>Vsevolozhsk</th>\n",
       "      <td>398</td>\n",
       "      <td>75781.356784</td>\n",
       "      <td>19316.0</td>\n",
       "      <td>488258.0</td>\n",
       "    </tr>\n",
       "    <tr>\n",
       "      <th>Pushkin</th>\n",
       "      <td>369</td>\n",
       "      <td>129380.720867</td>\n",
       "      <td>39800.0</td>\n",
       "      <td>840000.0</td>\n",
       "    </tr>\n",
       "    <tr>\n",
       "      <th>Kolpino</th>\n",
       "      <td>338</td>\n",
       "      <td>79280.426036</td>\n",
       "      <td>42000.0</td>\n",
       "      <td>738000.0</td>\n",
       "    </tr>\n",
       "    <tr>\n",
       "      <th>Pargolovo village</th>\n",
       "      <td>327</td>\n",
       "      <td>89761.495413</td>\n",
       "      <td>28000.0</td>\n",
       "      <td>182800.0</td>\n",
       "    </tr>\n",
       "    <tr>\n",
       "      <th>Gatchina</th>\n",
       "      <td>307</td>\n",
       "      <td>69766.732899</td>\n",
       "      <td>17000.0</td>\n",
       "      <td>278000.0</td>\n",
       "    </tr>\n",
       "    <tr>\n",
       "      <th>Kudrovo village</th>\n",
       "      <td>299</td>\n",
       "      <td>84683.157191</td>\n",
       "      <td>36000.0</td>\n",
       "      <td>260000.0</td>\n",
       "    </tr>\n",
       "    <tr>\n",
       "      <th>Vyborg</th>\n",
       "      <td>237</td>\n",
       "      <td>65019.662447</td>\n",
       "      <td>12000.0</td>\n",
       "      <td>399800.0</td>\n",
       "    </tr>\n",
       "  </tbody>\n",
       "</table>\n",
       "</div>"
      ],
      "text/plain": [
       "                   Number of ads           Mean  Minimum price  Maximum price\n",
       "locality_new                                                                 \n",
       "Saint Petersburg           15748  161207.087794        23800.0     15260000.0\n",
       "Murino village               556   73047.228417        34600.0       170000.0\n",
       "Shushary village             440   82161.636364        30000.0       219800.0\n",
       "Vsevolozhsk                  398   75781.356784        19316.0       488258.0\n",
       "Pushkin                      369  129380.720867        39800.0       840000.0\n",
       "Kolpino                      338   79280.426036        42000.0       738000.0\n",
       "Pargolovo village            327   89761.495413        28000.0       182800.0\n",
       "Gatchina                     307   69766.732899        17000.0       278000.0\n",
       "Kudrovo village              299   84683.157191        36000.0       260000.0\n",
       "Vyborg                       237   65019.662447        12000.0       399800.0"
      ]
     },
     "execution_count": 48,
     "metadata": {},
     "output_type": "execute_result"
    }
   ],
   "source": [
    "top_locations = df_new.pivot_table(index='locality_new', values='last_price', aggfunc=['count', 'mean', 'min', 'max'])\n",
    "top_locations.columns = ['Number of ads', 'Mean', 'Minimum price', 'Maximum price']\n",
    "top_locations.sort_values(by='Number of ads', ascending=False, inplace=True)\n",
    "top10 = top_locations[:10]\n",
    "top10"
   ]
  },
  {
   "cell_type": "markdown",
   "metadata": {},
   "source": [
    "So as we see **Saint Petersburg** is the leader from the point of **the highest average price** and **the most expensive apartment** that could be found (among TOP 10 localities).  \n",
    "**Pushkin** has the comparable average price and the the minimum price is higher than in Saint Petersburg. I can assume that in Saint Petersburg could be any types of apartments.  \n",
    "**The lowest minimum price** could be found in **Vyborg** - probably because of his proximity from SPb."
   ]
  },
  {
   "cell_type": "markdown",
   "metadata": {},
   "source": [
    "###  DOWNTOWN AREA <a class=\"anchor\" id=\"section_3_7\"></a>"
   ]
  },
  {
   "cell_type": "code",
   "execution_count": 49,
   "metadata": {},
   "outputs": [
    {
     "data": {
      "image/png": "[encoded data removed]",
      "text/plain": [
       "<Figure size 1080x360 with 1 Axes>"
      ]
     },
     "metadata": {
      "needs_background": "light"
     },
     "output_type": "display_data"
    }
   ],
   "source": [
    "spb = df_new.query('locality_new in \"Saint Petersburg\"').copy()\n",
    "spb['downtown_dist'] = spb['city_center_dist'] / 1000\n",
    "spb['downtown_dist'] = spb['downtown_dist'].round(0)\n",
    "ave_price_per_km = spb.pivot_table(index='downtown_dist', values='last_price', aggfunc=['mean'])\n",
    "ave_price_per_km.columns = ['Mean']\n",
    "ave_price_per_km.plot(y='Mean', kind='line', figsize=(15, 5))\n",
    "plt.show()"
   ]
  },
  {
   "cell_type": "markdown",
   "metadata": {},
   "source": [
    "Looking at the graph I would say that downtown area ends aroun 7 km from center. The average prices are significantly decreasing after this point. There is a small peak after 25th km but it could be connected to luxiours suburbian property."
   ]
  },
  {
   "cell_type": "code",
   "execution_count": 50,
   "metadata": {},
   "outputs": [
    {
     "data": {
      "text/plain": [
       "3540"
      ]
     },
     "execution_count": 50,
     "metadata": {},
     "output_type": "execute_result"
    }
   ],
   "source": [
    "downtown = spb.query('downtown_dist <= 7').copy()\n",
    "len(downtown)"
   ]
  },
  {
   "cell_type": "code",
   "execution_count": 51,
   "metadata": {},
   "outputs": [
    {
     "data": {
      "image/png": "[encoded data removed]",
      "text/plain": [
       "<Figure size 432x288 with 1 Axes>"
      ]
     },
     "metadata": {
      "needs_background": "light"
     },
     "output_type": "display_data"
    },
    {
     "data": {
      "image/png": "[encoded data removed]",
      "text/plain": [
       "<Figure size 432x288 with 1 Axes>"
      ]
     },
     "metadata": {
      "needs_background": "light"
     },
     "output_type": "display_data"
    },
    {
     "data": {
      "image/png": "[encoded data removed]",
      "text/plain": [
       "<Figure size 432x288 with 1 Axes>"
      ]
     },
     "metadata": {
      "needs_background": "light"
     },
     "output_type": "display_data"
    },
    {
     "name": "stdout",
     "output_type": "stream",
     "text": [
      "Mean: 93.05\n",
      "Median: 78.7\n"
     ]
    }
   ],
   "source": [
    "downtown.hist('total_area', bins=100)\n",
    "plt.show()\n",
    "downtown.hist('total_area', bins=100, range=(0, 200))\n",
    "plt.show()\n",
    "downtown.hist('total_area', bins=100, range=(200, 700))\n",
    "plt.show()\n",
    "print('Mean:', round(downtown['total_area'].mean(),2))\n",
    "print('Median:', downtown['total_area'].median())"
   ]
  },
  {
   "cell_type": "markdown",
   "metadata": {},
   "source": [
    "Of course, mean and median values for downtown area are higher than for the rest of the localities, however, we can see **all range of apartments** from the smallest to the big ones."
   ]
  },
  {
   "cell_type": "code",
   "execution_count": 52,
   "metadata": {},
   "outputs": [
    {
     "data": {
      "image/png": "[encoded data removed]",
      "text/plain": [
       "<Figure size 432x288 with 1 Axes>"
      ]
     },
     "metadata": {
      "needs_background": "light"
     },
     "output_type": "display_data"
    },
    {
     "data": {
      "image/png": "[encoded data removed]",
      "text/plain": [
       "<Figure size 432x288 with 1 Axes>"
      ]
     },
     "metadata": {
      "needs_background": "light"
     },
     "output_type": "display_data"
    },
    {
     "data": {
      "image/png": "[encoded data removed]",
      "text/plain": [
       "<Figure size 432x288 with 1 Axes>"
      ]
     },
     "metadata": {
      "needs_background": "light"
     },
     "output_type": "display_data"
    },
    {
     "name": "stdout",
     "output_type": "stream",
     "text": [
      "Mean: 297125.04\n",
      "Median: 184000.0\n"
     ]
    }
   ],
   "source": [
    "downtown.hist('last_price', bins=100)\n",
    "plt.show()\n",
    "downtown.hist('last_price', bins=100, range=(0, 200000))\n",
    "plt.show()\n",
    "downtown.hist('last_price', bins=100, range=(300000, 1600000))\n",
    "plt.show()\n",
    "print('Mean:', round(downtown['last_price'].mean(),2))\n",
    "print('Median:', downtown['last_price'].median())"
   ]
  },
  {
   "cell_type": "markdown",
   "metadata": {},
   "source": [
    "The prices are significantly higher: **the average price is more than twice higher**. Thats impressive."
   ]
  },
  {
   "cell_type": "code",
   "execution_count": 53,
   "metadata": {},
   "outputs": [
    {
     "data": {
      "image/png": "[encoded data removed]",
      "text/plain": [
       "<Figure size 432x288 with 1 Axes>"
      ]
     },
     "metadata": {
      "needs_background": "light"
     },
     "output_type": "display_data"
    },
    {
     "name": "stdout",
     "output_type": "stream",
     "text": [
      "Mean: 2.84\n",
      "Median: 3.0\n"
     ]
    }
   ],
   "source": [
    "downtown.hist('bedrooms', bins=20)\n",
    "plt.show()\n",
    "print('Mean:', round(downtown['bedrooms'].mean(),2))\n",
    "print('Median:', downtown['bedrooms'].median())"
   ]
  },
  {
   "cell_type": "markdown",
   "metadata": {},
   "source": [
    "If in general the average number of rooms is 2, than for downtown **3-bedroom apartments** are more frequent."
   ]
  },
  {
   "cell_type": "code",
   "execution_count": 54,
   "metadata": {},
   "outputs": [
    {
     "data": {
      "image/png": "[encoded data removed]",
      "text/plain": [
       "<Figure size 432x288 with 1 Axes>"
      ]
     },
     "metadata": {
      "needs_background": "light"
     },
     "output_type": "display_data"
    },
    {
     "name": "stdout",
     "output_type": "stream",
     "text": [
      "Mean: 2.93\n",
      "Median: 2.8\n"
     ]
    }
   ],
   "source": [
    "downtown.hist('ceiling_height', bins=10)\n",
    "plt.show()\n",
    "print('Mean:', round(downtown['ceiling_height'].mean(),2))\n",
    "print('Median:', downtown['ceiling_height'].median())"
   ]
  },
  {
   "cell_type": "markdown",
   "metadata": {},
   "source": [
    "The difference in ceiling heights is **insignificant**"
   ]
  },
  {
   "cell_type": "code",
   "execution_count": 55,
   "metadata": {},
   "outputs": [
    {
     "data": {
      "text/html": [
       "<div>\n",
       "<style scoped>\n",
       "    .dataframe tbody tr th:only-of-type {\n",
       "        vertical-align: middle;\n",
       "    }\n",
       "\n",
       "    .dataframe tbody tr th {\n",
       "        vertical-align: top;\n",
       "    }\n",
       "\n",
       "    .dataframe thead th {\n",
       "        text-align: right;\n",
       "    }\n",
       "</style>\n",
       "<table border=\"1\" class=\"dataframe\">\n",
       "  <thead>\n",
       "    <tr style=\"text-align: right;\">\n",
       "      <th></th>\n",
       "      <th>bedrooms</th>\n",
       "      <th>floor</th>\n",
       "      <th>city_center_dist</th>\n",
       "      <th>last_price</th>\n",
       "    </tr>\n",
       "  </thead>\n",
       "  <tbody>\n",
       "    <tr>\n",
       "      <th>bedrooms</th>\n",
       "      <td>1.000000</td>\n",
       "      <td>-0.145317</td>\n",
       "      <td>-0.188467</td>\n",
       "      <td>0.364834</td>\n",
       "    </tr>\n",
       "    <tr>\n",
       "      <th>floor</th>\n",
       "      <td>-0.145317</td>\n",
       "      <td>1.000000</td>\n",
       "      <td>0.008393</td>\n",
       "      <td>0.028483</td>\n",
       "    </tr>\n",
       "    <tr>\n",
       "      <th>city_center_dist</th>\n",
       "      <td>-0.188467</td>\n",
       "      <td>0.008393</td>\n",
       "      <td>1.000000</td>\n",
       "      <td>-0.207071</td>\n",
       "    </tr>\n",
       "    <tr>\n",
       "      <th>last_price</th>\n",
       "      <td>0.364834</td>\n",
       "      <td>0.028483</td>\n",
       "      <td>-0.207071</td>\n",
       "      <td>1.000000</td>\n",
       "    </tr>\n",
       "  </tbody>\n",
       "</table>\n",
       "</div>"
      ],
      "text/plain": [
       "                  bedrooms     floor  city_center_dist  last_price\n",
       "bedrooms          1.000000 -0.145317         -0.188467    0.364834\n",
       "floor            -0.145317  1.000000          0.008393    0.028483\n",
       "city_center_dist -0.188467  0.008393          1.000000   -0.207071\n",
       "last_price        0.364834  0.028483         -0.207071    1.000000"
      ]
     },
     "execution_count": 55,
     "metadata": {},
     "output_type": "execute_result"
    }
   ],
   "source": [
    "downtown_price = df[['bedrooms', 'floor', 'city_center_dist', 'last_price']]\n",
    "downtown_price.corr()"
   ]
  },
  {
   "cell_type": "code",
   "execution_count": 56,
   "metadata": {},
   "outputs": [
    {
     "data": {
      "image/png": "[encoded data removed]",
      "text/plain": [
       "<Figure size 432x288 with 2 Axes>"
      ]
     },
     "metadata": {
      "needs_background": "light"
     },
     "output_type": "display_data"
    }
   ],
   "source": [
    "corr_matrix_new = downtown_price.corr()\n",
    "sn.heatmap(corr_matrix_new, annot=True)\n",
    "plt.show()"
   ]
  },
  {
   "cell_type": "markdown",
   "metadata": {},
   "source": [
    "In downtown the situation is slightly different comparing to the overall data. The numbers of bedrooms is still a tendency that influences the price and other factors all doesnt really matter. Probably its connected to some latent factor which we dont see but I can assume it could be the location itself 'downtown' is the main factor defining the price."
   ]
  },
  {
   "cell_type": "code",
   "execution_count": 57,
   "metadata": {},
   "outputs": [
    {
     "data": {
      "image/png": "[encoded data removed]",
      "text/plain": [
       "<Figure size 720x360 with 1 Axes>"
      ]
     },
     "metadata": {
      "needs_background": "light"
     },
     "output_type": "display_data"
    }
   ],
   "source": [
    "weekday_dtwn = downtown.pivot_table(index='weekday', values='last_price', aggfunc=['mean', 'median', 'count'])\n",
    "weekday_dtwn.columns = ['Mean', 'Median', 'Number of ads']\n",
    "days = ['Monday', 'Tuesday', 'Wednesday', 'Thursday', 'Friday', 'Saturday', 'Sunday']\n",
    "weekday_dtwn = weekday_dtwn.reindex(days)\n",
    "weekday_dtwn.plot(y='Mean', kind='bar', figsize=(10, 5))\n",
    "plt.show()"
   ]
  },
  {
   "cell_type": "code",
   "execution_count": 58,
   "metadata": {},
   "outputs": [
    {
     "data": {
      "image/png": "[encoded data removed]",
      "text/plain": [
       "<Figure size 720x360 with 1 Axes>"
      ]
     },
     "metadata": {
      "needs_background": "light"
     },
     "output_type": "display_data"
    }
   ],
   "source": [
    "month_dtwn = downtown.pivot_table(index='month', values='last_price', aggfunc=['mean', 'median', 'count'])\n",
    "month_dtwn.columns = ['Mean', 'Median', 'Number of ads']\n",
    "month_dtwn.sort_values(by='Mean', ascending=False)\n",
    "months = ['Jan', 'Feb', 'Mar', 'Apr', 'May', 'Jun', 'Jul', 'Aug', 'Sep', 'Oct', 'Nov', 'Dec']\n",
    "month_dtwn = month_dtwn.reindex(months)\n",
    "month_dtwn.plot(y='Mean', kind='line', figsize=(10, 5))\n",
    "plt.show()"
   ]
  },
  {
   "cell_type": "code",
   "execution_count": 59,
   "metadata": {},
   "outputs": [
    {
     "data": {
      "text/html": [
       "<div>\n",
       "<style scoped>\n",
       "    .dataframe tbody tr th:only-of-type {\n",
       "        vertical-align: middle;\n",
       "    }\n",
       "\n",
       "    .dataframe tbody tr th {\n",
       "        vertical-align: top;\n",
       "    }\n",
       "\n",
       "    .dataframe thead th {\n",
       "        text-align: right;\n",
       "    }\n",
       "</style>\n",
       "<table border=\"1\" class=\"dataframe\">\n",
       "  <thead>\n",
       "    <tr style=\"text-align: right;\">\n",
       "      <th></th>\n",
       "      <th>Mean</th>\n",
       "      <th>Median</th>\n",
       "      <th>Number of ads</th>\n",
       "    </tr>\n",
       "    <tr>\n",
       "      <th>year</th>\n",
       "      <th></th>\n",
       "      <th></th>\n",
       "      <th></th>\n",
       "    </tr>\n",
       "  </thead>\n",
       "  <tbody>\n",
       "    <tr>\n",
       "      <th>2014</th>\n",
       "      <td>241742.715328</td>\n",
       "      <td>154000.0</td>\n",
       "      <td>137</td>\n",
       "    </tr>\n",
       "    <tr>\n",
       "      <th>2015</th>\n",
       "      <td>172237.210660</td>\n",
       "      <td>107050.0</td>\n",
       "      <td>1182</td>\n",
       "    </tr>\n",
       "    <tr>\n",
       "      <th>2016</th>\n",
       "      <td>136758.861261</td>\n",
       "      <td>91000.0</td>\n",
       "      <td>2775</td>\n",
       "    </tr>\n",
       "    <tr>\n",
       "      <th>2017</th>\n",
       "      <td>132558.871275</td>\n",
       "      <td>90000.0</td>\n",
       "      <td>8087</td>\n",
       "    </tr>\n",
       "    <tr>\n",
       "      <th>2018</th>\n",
       "      <td>119426.340602</td>\n",
       "      <td>92000.0</td>\n",
       "      <td>8438</td>\n",
       "    </tr>\n",
       "    <tr>\n",
       "      <th>2019</th>\n",
       "      <td>136080.002096</td>\n",
       "      <td>102000.0</td>\n",
       "      <td>2862</td>\n",
       "    </tr>\n",
       "  </tbody>\n",
       "</table>\n",
       "</div>"
      ],
      "text/plain": [
       "               Mean    Median  Number of ads\n",
       "year                                        \n",
       "2014  241742.715328  154000.0            137\n",
       "2015  172237.210660  107050.0           1182\n",
       "2016  136758.861261   91000.0           2775\n",
       "2017  132558.871275   90000.0           8087\n",
       "2018  119426.340602   92000.0           8438\n",
       "2019  136080.002096  102000.0           2862"
      ]
     },
     "execution_count": 59,
     "metadata": {},
     "output_type": "execute_result"
    }
   ],
   "source": [
    "year_dtwn = df.pivot_table(index='year', values='last_price', aggfunc=['mean', 'median', 'count'])\n",
    "year_dtwn.columns = ['Mean', 'Median', 'Number of ads']\n",
    "year_dtwn = year_dtwn.sort_index()\n",
    "year_dtwn"
   ]
  },
  {
   "cell_type": "code",
   "execution_count": 60,
   "metadata": {},
   "outputs": [
    {
     "data": {
      "image/png": "[encoded data removed]",
      "text/plain": [
       "<Figure size 720x360 with 1 Axes>"
      ]
     },
     "metadata": {
      "needs_background": "light"
     },
     "output_type": "display_data"
    },
    {
     "data": {
      "image/png": "[encoded data removed]",
      "text/plain": [
       "<Figure size 720x360 with 1 Axes>"
      ]
     },
     "metadata": {
      "needs_background": "light"
     },
     "output_type": "display_data"
    }
   ],
   "source": [
    "year_dtwn.plot(y='Mean', kind='line', figsize=(10, 5))\n",
    "plt.show()\n",
    "year_dtwn.plot(y='Number of ads', kind='bar', figsize=(10, 5))\n",
    "plt.show()"
   ]
  },
  {
   "cell_type": "markdown",
   "metadata": {},
   "source": [
    "Regarding ad publication date, there is an interesting difference with the overall data: on Saturdays prices are higher; in April and September the prices are the highest. The tendencies through the years are the same.\n"
   ]
  },
  {
   "cell_type": "markdown",
   "metadata": {},
   "source": [
    "### General conclusions <a class=\"anchor\" id=\"chapter4\"></a>"
   ]
  },
  {
   "cell_type": "markdown",
   "metadata": {},
   "source": [
    "I have investigated the database of real estate ads in Saint Petersburg and its region. The data is sophisticated and is not really full of missings and problem issues.\n",
    "Factors which influence the average prices of the apartments are price per sq.m., number of bedrooms (tendency), season (April, September, December) and location (regarding analysis of downtown area). Its obvious that in downtown prices are higher, but at the same time there are bigger appartments with bigger number of rooms.\n"
   ]
  }
 ],
 "metadata": {
  "kernelspec": {
   "display_name": "Python 3",
   "language": "python",
   "name": "python3"
  },
  "language_info": {
   "codemirror_mode": {
    "name": "ipython",
    "version": 3
   },
   "file_extension": ".py",
   "mimetype": "text/x-python",
   "name": "python",
   "nbconvert_exporter": "python",
   "pygments_lexer": "ipython3",
   "version": "3.8.3"
  }
 },
 "nbformat": 4,
 "nbformat_minor": 2
}
