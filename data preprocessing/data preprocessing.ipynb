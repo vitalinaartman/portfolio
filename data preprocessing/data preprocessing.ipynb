{
 "cells": [
  {
   "cell_type": "markdown",
   "metadata": {},
   "source": [
    "## Analyzing borrowers’ risk of defaulting\n",
    "\n",
    "The goal of the project is to prepare a report for a bank’s loan division. I need to find out if a customer’s marital status and number of children has an impact on whether they will default on a loan. The bank already has some data on customers’ credit worthiness.\n",
    "\n",
    "The evaluation of customers of based on their previous activity."
   ]
  },
  {
   "cell_type": "markdown",
   "metadata": {},
   "source": [
    "### Table of Contents <a class=\"anchor\" id=\"contents\"></a>"
   ]
  },
  {
   "cell_type": "markdown",
   "metadata": {},
   "source": [
    "* [Importing libraries + first glance at data](#chapter1)\n",
    "* [Data preprocessing](#chapter2)\n",
    "    * [Missing values](#section_2_1)\n",
    "    * [Data type replacement](#section_2_2)\n",
    "    * [Duplicates](#section_2_3)\n",
    "    * [Categorizing Data](#section_2_4)\n",
    "* [Analysis](#chapter3)\n",
    "* [General conclusions](#chapter4)"
   ]
  },
  {
   "cell_type": "markdown",
   "metadata": {},
   "source": [
    "### Importing libraries + first glance at data <a class=\"anchor\" id=\"chapter1\"></a>"
   ]
  },
  {
   "cell_type": "code",
   "execution_count": 2,
   "metadata": {},
   "outputs": [],
   "source": [
    "import pandas as pd\n",
    "import numpy as np\n",
    "from collections import Counter\n",
    "import nltk\n",
    "from nltk.stem import WordNetLemmatizer"
   ]
  },
  {
   "cell_type": "code",
   "execution_count": 3,
   "metadata": {},
   "outputs": [],
   "source": [
    "credit_scoring = pd.read_csv('credit_scoring_eng.csv')"
   ]
  },
  {
   "cell_type": "code",
   "execution_count": 4,
   "metadata": {},
   "outputs": [
    {
     "name": "stdout",
     "output_type": "stream",
     "text": [
      "<class 'pandas.core.frame.DataFrame'>\n",
      "RangeIndex: 21525 entries, 0 to 21524\n",
      "Data columns (total 12 columns):\n",
      " #   Column            Non-Null Count  Dtype  \n",
      "---  ------            --------------  -----  \n",
      " 0   children          21525 non-null  int64  \n",
      " 1   days_employed     19351 non-null  float64\n",
      " 2   dob_years         21525 non-null  int64  \n",
      " 3   education         21525 non-null  object \n",
      " 4   education_id      21525 non-null  int64  \n",
      " 5   family_status     21525 non-null  object \n",
      " 6   family_status_id  21525 non-null  int64  \n",
      " 7   gender            21525 non-null  object \n",
      " 8   income_type       21525 non-null  object \n",
      " 9   debt              21525 non-null  int64  \n",
      " 10  total_income      19351 non-null  float64\n",
      " 11  purpose           21525 non-null  object \n",
      "dtypes: float64(2), int64(5), object(5)\n",
      "memory usage: 2.0+ MB\n"
     ]
    }
   ],
   "source": [
    "credit_scoring.info()"
   ]
  },
  {
   "cell_type": "code",
   "execution_count": 5,
   "metadata": {},
   "outputs": [
    {
     "data": {
      "text/html": [
       "<div>\n",
       "<style scoped>\n",
       "    .dataframe tbody tr th:only-of-type {\n",
       "        vertical-align: middle;\n",
       "    }\n",
       "\n",
       "    .dataframe tbody tr th {\n",
       "        vertical-align: top;\n",
       "    }\n",
       "\n",
       "    .dataframe thead th {\n",
       "        text-align: right;\n",
       "    }\n",
       "</style>\n",
       "<table border=\"1\" class=\"dataframe\">\n",
       "  <thead>\n",
       "    <tr style=\"text-align: right;\">\n",
       "      <th></th>\n",
       "      <th>children</th>\n",
       "      <th>days_employed</th>\n",
       "      <th>dob_years</th>\n",
       "      <th>education</th>\n",
       "      <th>education_id</th>\n",
       "      <th>family_status</th>\n",
       "      <th>family_status_id</th>\n",
       "      <th>gender</th>\n",
       "      <th>income_type</th>\n",
       "      <th>debt</th>\n",
       "      <th>total_income</th>\n",
       "      <th>purpose</th>\n",
       "    </tr>\n",
       "  </thead>\n",
       "  <tbody>\n",
       "    <tr>\n",
       "      <th>0</th>\n",
       "      <td>1</td>\n",
       "      <td>-8437.673028</td>\n",
       "      <td>42</td>\n",
       "      <td>bachelor's degree</td>\n",
       "      <td>0</td>\n",
       "      <td>married</td>\n",
       "      <td>0</td>\n",
       "      <td>F</td>\n",
       "      <td>employee</td>\n",
       "      <td>0</td>\n",
       "      <td>40620.102</td>\n",
       "      <td>purchase of the house</td>\n",
       "    </tr>\n",
       "    <tr>\n",
       "      <th>1</th>\n",
       "      <td>1</td>\n",
       "      <td>-4024.803754</td>\n",
       "      <td>36</td>\n",
       "      <td>secondary education</td>\n",
       "      <td>1</td>\n",
       "      <td>married</td>\n",
       "      <td>0</td>\n",
       "      <td>F</td>\n",
       "      <td>employee</td>\n",
       "      <td>0</td>\n",
       "      <td>17932.802</td>\n",
       "      <td>car purchase</td>\n",
       "    </tr>\n",
       "    <tr>\n",
       "      <th>2</th>\n",
       "      <td>0</td>\n",
       "      <td>-5623.422610</td>\n",
       "      <td>33</td>\n",
       "      <td>Secondary Education</td>\n",
       "      <td>1</td>\n",
       "      <td>married</td>\n",
       "      <td>0</td>\n",
       "      <td>M</td>\n",
       "      <td>employee</td>\n",
       "      <td>0</td>\n",
       "      <td>23341.752</td>\n",
       "      <td>purchase of the house</td>\n",
       "    </tr>\n",
       "    <tr>\n",
       "      <th>3</th>\n",
       "      <td>3</td>\n",
       "      <td>-4124.747207</td>\n",
       "      <td>32</td>\n",
       "      <td>secondary education</td>\n",
       "      <td>1</td>\n",
       "      <td>married</td>\n",
       "      <td>0</td>\n",
       "      <td>M</td>\n",
       "      <td>employee</td>\n",
       "      <td>0</td>\n",
       "      <td>42820.568</td>\n",
       "      <td>supplementary education</td>\n",
       "    </tr>\n",
       "    <tr>\n",
       "      <th>4</th>\n",
       "      <td>0</td>\n",
       "      <td>340266.072047</td>\n",
       "      <td>53</td>\n",
       "      <td>secondary education</td>\n",
       "      <td>1</td>\n",
       "      <td>civil partnership</td>\n",
       "      <td>1</td>\n",
       "      <td>F</td>\n",
       "      <td>retiree</td>\n",
       "      <td>0</td>\n",
       "      <td>25378.572</td>\n",
       "      <td>to have a wedding</td>\n",
       "    </tr>\n",
       "  </tbody>\n",
       "</table>\n",
       "</div>"
      ],
      "text/plain": [
       "   children  days_employed  dob_years            education  education_id  \\\n",
       "0         1   -8437.673028         42    bachelor's degree             0   \n",
       "1         1   -4024.803754         36  secondary education             1   \n",
       "2         0   -5623.422610         33  Secondary Education             1   \n",
       "3         3   -4124.747207         32  secondary education             1   \n",
       "4         0  340266.072047         53  secondary education             1   \n",
       "\n",
       "       family_status  family_status_id gender income_type  debt  total_income  \\\n",
       "0            married                 0      F    employee     0     40620.102   \n",
       "1            married                 0      F    employee     0     17932.802   \n",
       "2            married                 0      M    employee     0     23341.752   \n",
       "3            married                 0      M    employee     0     42820.568   \n",
       "4  civil partnership                 1      F     retiree     0     25378.572   \n",
       "\n",
       "                   purpose  \n",
       "0    purchase of the house  \n",
       "1             car purchase  \n",
       "2    purchase of the house  \n",
       "3  supplementary education  \n",
       "4        to have a wedding  "
      ]
     },
     "execution_count": 5,
     "metadata": {},
     "output_type": "execute_result"
    }
   ],
   "source": [
    "credit_scoring.head()"
   ]
  },
  {
   "cell_type": "code",
   "execution_count": 6,
   "metadata": {},
   "outputs": [],
   "source": [
    "credit_scoring.debt = credit_scoring.debt.astype('bool')"
   ]
  },
  {
   "cell_type": "code",
   "execution_count": 7,
   "metadata": {},
   "outputs": [
    {
     "name": "stdout",
     "output_type": "stream",
     "text": [
      "secondary education    13750\n",
      "bachelor's degree       4718\n",
      "SECONDARY EDUCATION      772\n",
      "Secondary Education      711\n",
      "some college             668\n",
      "BACHELOR'S DEGREE        274\n",
      "Bachelor's Degree        268\n",
      "primary education        250\n",
      "Some College              47\n",
      "SOME COLLEGE              29\n",
      "PRIMARY EDUCATION         17\n",
      "Primary Education         15\n",
      "graduate degree            4\n",
      "Graduate Degree            1\n",
      "GRADUATE DEGREE            1\n",
      "Name: education, dtype: int64\n",
      "\n",
      "married              12380\n",
      "civil partnership     4177\n",
      "unmarried             2813\n",
      "divorced              1195\n",
      "widow / widower        960\n",
      "Name: family_status, dtype: int64\n",
      "\n",
      "F      14236\n",
      "M       7288\n",
      "XNA        1\n",
      "Name: gender, dtype: int64\n",
      "\n",
      "employee                       11119\n",
      "business                        5085\n",
      "retiree                         3856\n",
      "civil servant                   1459\n",
      "unemployed                         2\n",
      "entrepreneur                       2\n",
      "paternity / maternity leave        1\n",
      "student                            1\n",
      "Name: income_type, dtype: int64\n",
      "\n",
      "False    19784\n",
      "True      1741\n",
      "Name: debt, dtype: int64\n",
      "\n",
      "wedding ceremony                            797\n",
      "having a wedding                            777\n",
      "to have a wedding                           774\n",
      "real estate transactions                    676\n",
      "buy commercial real estate                  664\n",
      "buying property for renting out             653\n",
      "housing transactions                        653\n",
      "transactions with commercial real estate    651\n",
      "purchase of the house                       647\n",
      "housing                                     647\n",
      "purchase of the house for my family         641\n",
      "construction of own property                635\n",
      "property                                    634\n",
      "transactions with my real estate            630\n",
      "building a real estate                      626\n",
      "buy real estate                             624\n",
      "purchase of my own house                    620\n",
      "building a property                         620\n",
      "housing renovation                          612\n",
      "buy residential real estate                 607\n",
      "buying my own car                           505\n",
      "going to university                         496\n",
      "car                                         495\n",
      "second-hand car purchase                    489\n",
      "to own a car                                480\n",
      "buying a second-hand car                    479\n",
      "cars                                        478\n",
      "to buy a car                                472\n",
      "car purchase                                462\n",
      "supplementary education                     462\n",
      "purchase of a car                           455\n",
      "university education                        453\n",
      "education                                   447\n",
      "to get a supplementary education            447\n",
      "getting an education                        443\n",
      "profile education                           436\n",
      "getting higher education                    426\n",
      "to become educated                          412\n",
      "Name: purpose, dtype: int64\n",
      "\n"
     ]
    }
   ],
   "source": [
    "for column in credit_scoring.select_dtypes(include=['object', 'bool']):\n",
    "    print(credit_scoring[column].value_counts())\n",
    "    print()"
   ]
  },
  {
   "cell_type": "code",
   "execution_count": 8,
   "metadata": {},
   "outputs": [
    {
     "name": "stdout",
     "output_type": "stream",
     "text": [
      "count    21525.000000\n",
      "mean         0.538908\n",
      "std          1.381587\n",
      "min         -1.000000\n",
      "25%          0.000000\n",
      "50%          0.000000\n",
      "75%          1.000000\n",
      "max         20.000000\n",
      "Name: children, dtype: float64\n",
      "\n",
      "count     19351.000000\n",
      "mean      63046.497661\n",
      "std      140827.311974\n",
      "min      -18388.949901\n",
      "25%       -2747.423625\n",
      "50%       -1203.369529\n",
      "75%        -291.095954\n",
      "max      401755.400475\n",
      "Name: days_employed, dtype: float64\n",
      "\n",
      "count    21525.000000\n",
      "mean        43.293380\n",
      "std         12.574584\n",
      "min          0.000000\n",
      "25%         33.000000\n",
      "50%         42.000000\n",
      "75%         53.000000\n",
      "max         75.000000\n",
      "Name: dob_years, dtype: float64\n",
      "\n",
      "count    21525.000000\n",
      "mean         0.817236\n",
      "std          0.548138\n",
      "min          0.000000\n",
      "25%          1.000000\n",
      "50%          1.000000\n",
      "75%          1.000000\n",
      "max          4.000000\n",
      "Name: education_id, dtype: float64\n",
      "\n",
      "count    21525.000000\n",
      "mean         0.972544\n",
      "std          1.420324\n",
      "min          0.000000\n",
      "25%          0.000000\n",
      "50%          0.000000\n",
      "75%          1.000000\n",
      "max          4.000000\n",
      "Name: family_status_id, dtype: float64\n",
      "\n",
      "count     19351.000000\n",
      "mean      26787.568355\n",
      "std       16475.450632\n",
      "min        3306.762000\n",
      "25%       16488.504500\n",
      "50%       23202.870000\n",
      "75%       32549.611000\n",
      "max      362496.645000\n",
      "Name: total_income, dtype: float64\n",
      "\n"
     ]
    }
   ],
   "source": [
    "for column in credit_scoring.select_dtypes(exclude=['object', 'bool']):\n",
    "    print(credit_scoring[column].describe())\n",
    "    print()"
   ]
  },
  {
   "cell_type": "markdown",
   "metadata": {},
   "source": [
    "In the data base we have **21 525** entries. There are **12** variables including float64(2), int64(5), object(5).\n",
    "- 'children' - negative figures, 20 - excessive number, need check\n",
    "- 'days_employed' - missing values, negative figures; +maybe in shape of years or months it would be more convenient to look at\n",
    "- 'dob_years' 101 entries has 0 year-old age\n",
    "- 'education' - differently written categories, need replacement (+cross tab with 'education_id');\n",
    "- 'family_status' & 'family_status_id' - seems ok\n",
    "- 'gender' - strange 'XNA', need check\n",
    "- 'income_type' - seems ok\n",
    "- 'debt' - seems ok\n",
    "- 'total_income' - not sure if I need it in the floating form, 'int' will be better; missing values\n",
    "- 'purpose' - unification of purposes, now the list seems extended (e.g. 'purchase of the house' and 'purchase of the house for my family'). possible groups: car / education / buying real estate / constructing real estate / wedding"
   ]
  },
  {
   "cell_type": "markdown",
   "metadata": {},
   "source": [
    "[back to contents](#contents)"
   ]
  },
  {
   "cell_type": "markdown",
   "metadata": {},
   "source": [
    "### Data preprocessing <a class=\"anchor\" id=\"chapter2\"></a>"
   ]
  },
  {
   "cell_type": "markdown",
   "metadata": {},
   "source": [
    "### Missing values <a class=\"anchor\" id=\"section_2_1\"></a>"
   ]
  },
  {
   "cell_type": "code",
   "execution_count": 9,
   "metadata": {},
   "outputs": [],
   "source": [
    "credit_scoring['children'] = credit_scoring['children'].replace(-1,1)\n",
    "credit_scoring['children'] = credit_scoring['children'].replace(20,2)"
   ]
  },
  {
   "cell_type": "code",
   "execution_count": 10,
   "metadata": {},
   "outputs": [],
   "source": [
    "credit_scoring['dob_years'] = credit_scoring['dob_years'].replace(0, np.nan)"
   ]
  },
  {
   "cell_type": "code",
   "execution_count": 11,
   "metadata": {},
   "outputs": [
    {
     "data": {
      "text/plain": [
       "F    14236\n",
       "M     7288\n",
       "Name: gender, dtype: int64"
      ]
     },
     "execution_count": 11,
     "metadata": {},
     "output_type": "execute_result"
    }
   ],
   "source": [
    "credit_scoring = credit_scoring[credit_scoring.gender != 'XNA']\n",
    "credit_scoring['gender'].value_counts()"
   ]
  },
  {
   "cell_type": "code",
   "execution_count": 14,
   "metadata": {},
   "outputs": [
    {
     "name": "stdout",
     "output_type": "stream",
     "text": [
      "Average years employed:  172.74\n",
      "% of those who worked more than 30 years:  16.0\n"
     ]
    }
   ],
   "source": [
    "credit_scoring['years_employed'] = credit_scoring['days_employed'] / 365\n",
    "#credit_scoring['years_employed'] = credit_scoring['years_employed'].round(decimals=1)\n",
    "print('Average years employed: ',round(credit_scoring['years_employed'].mean(),2))\n",
    "years_error = len(credit_scoring.loc[credit_scoring['years_employed'] > 30])\n",
    "years_error_share = years_error/len(credit_scoring)*100\n",
    "print('% of those who worked more than 30 years: ',round(years_error_share, 1))"
   ]
  },
  {
   "cell_type": "code",
   "execution_count": 15,
   "metadata": {},
   "outputs": [],
   "source": [
    "#replacing missing income values with median values by income types\n",
    "credit_scoring['total_income'].fillna(credit_scoring.groupby(['income_type'])\n",
    "                                      ['total_income'].transform('median'),inplace=True)"
   ]
  },
  {
   "cell_type": "markdown",
   "metadata": {},
   "source": [
    "- 'children' - '-1', '20' replaced with '1','20'. while looking through the rows havent seen anything suspicious or extraodrinary which proves that really there could be 20 kids (also its just 0,35% of all entries - the level of possibble error is quite low). Seems to be just a typo while uploading data (*probably need to contact the team reponsible for the data supply)\n",
    "- 'dob_years' - 0 convert to missing, so it wont affect the counting if I need to calculate means, for example\n",
    "- So I have concerns about 'gender'. I have deleted the row with strange \"XNA\"-value because I couldnt retrieve the information for it in other cells and excluded from the dataframe. It is probably the error of data input.\n",
    "- 'days_employed' I have changed all numbers into positive. Then I have transfered days to years to have a better understanding of what I see. Then I have checked the mean of the column because I have noticed some extreme values in the cells. The result was more than 165 years (it is impossible!). Than I have tried to check the scale of the tragedy: I have calculated the share of row with more than 30 years of work experience. 16,8% is pretty significant result, which moreover couldnt be overcome with means, medians, it is probably the problem of system parcing the data and should be reported to those responsible for data collection.\n",
    "- for 'total_income' I used 'median' value of each income_type group and fill with it all missing values"
   ]
  },
  {
   "cell_type": "markdown",
   "metadata": {},
   "source": [
    "### Data type replacement <a class=\"anchor\" id=\"section_2_2\"></a>"
   ]
  },
  {
   "cell_type": "code",
   "execution_count": 16,
   "metadata": {},
   "outputs": [],
   "source": [
    "credit_scoring['total_income'] = credit_scoring['total_income'].astype('int')\n",
    "credit_scoring['total_income'] = credit_scoring['total_income'].round(decimals=1)"
   ]
  },
  {
   "cell_type": "markdown",
   "metadata": {},
   "source": [
    "### Duplicates <a class=\"anchor\" id=\"section_2_3\"></a>"
   ]
  },
  {
   "cell_type": "code",
   "execution_count": 19,
   "metadata": {},
   "outputs": [
    {
     "name": "stdout",
     "output_type": "stream",
     "text": [
      "# of duplicates:  54\n"
     ]
    }
   ],
   "source": [
    "print('# of duplicates: ',credit_scoring.duplicated().sum())"
   ]
  },
  {
   "cell_type": "code",
   "execution_count": 20,
   "metadata": {},
   "outputs": [],
   "source": [
    "#dropping duplicates\n",
    "credit_scoring = credit_scoring.drop_duplicates().reset_index(drop = True)"
   ]
  },
  {
   "cell_type": "code",
   "execution_count": 21,
   "metadata": {},
   "outputs": [
    {
     "data": {
      "text/html": [
       "<div>\n",
       "<style scoped>\n",
       "    .dataframe tbody tr th:only-of-type {\n",
       "        vertical-align: middle;\n",
       "    }\n",
       "\n",
       "    .dataframe tbody tr th {\n",
       "        vertical-align: top;\n",
       "    }\n",
       "\n",
       "    .dataframe thead th {\n",
       "        text-align: right;\n",
       "    }\n",
       "</style>\n",
       "<table border=\"1\" class=\"dataframe\">\n",
       "  <thead>\n",
       "    <tr style=\"text-align: right;\">\n",
       "      <th>education_id</th>\n",
       "      <th>0</th>\n",
       "      <th>1</th>\n",
       "      <th>2</th>\n",
       "      <th>3</th>\n",
       "      <th>4</th>\n",
       "    </tr>\n",
       "    <tr>\n",
       "      <th>education_lowercase</th>\n",
       "      <th></th>\n",
       "      <th></th>\n",
       "      <th></th>\n",
       "      <th></th>\n",
       "      <th></th>\n",
       "    </tr>\n",
       "  </thead>\n",
       "  <tbody>\n",
       "    <tr>\n",
       "      <th>bachelor's degree</th>\n",
       "      <td>5251.0</td>\n",
       "      <td>NaN</td>\n",
       "      <td>NaN</td>\n",
       "      <td>NaN</td>\n",
       "      <td>NaN</td>\n",
       "    </tr>\n",
       "    <tr>\n",
       "      <th>graduate degree</th>\n",
       "      <td>NaN</td>\n",
       "      <td>NaN</td>\n",
       "      <td>NaN</td>\n",
       "      <td>NaN</td>\n",
       "      <td>6.0</td>\n",
       "    </tr>\n",
       "    <tr>\n",
       "      <th>primary education</th>\n",
       "      <td>NaN</td>\n",
       "      <td>NaN</td>\n",
       "      <td>NaN</td>\n",
       "      <td>282.0</td>\n",
       "      <td>NaN</td>\n",
       "    </tr>\n",
       "    <tr>\n",
       "      <th>secondary education</th>\n",
       "      <td>NaN</td>\n",
       "      <td>15188.0</td>\n",
       "      <td>NaN</td>\n",
       "      <td>NaN</td>\n",
       "      <td>NaN</td>\n",
       "    </tr>\n",
       "    <tr>\n",
       "      <th>some college</th>\n",
       "      <td>NaN</td>\n",
       "      <td>NaN</td>\n",
       "      <td>743.0</td>\n",
       "      <td>NaN</td>\n",
       "      <td>NaN</td>\n",
       "    </tr>\n",
       "  </tbody>\n",
       "</table>\n",
       "</div>"
      ],
      "text/plain": [
       "education_id              0        1      2      3    4\n",
       "education_lowercase                                    \n",
       "bachelor's degree    5251.0      NaN    NaN    NaN  NaN\n",
       "graduate degree         NaN      NaN    NaN    NaN  6.0\n",
       "primary education       NaN      NaN    NaN  282.0  NaN\n",
       "secondary education     NaN  15188.0    NaN    NaN  NaN\n",
       "some college            NaN      NaN  743.0    NaN  NaN"
      ]
     },
     "execution_count": 21,
     "metadata": {},
     "output_type": "execute_result"
    }
   ],
   "source": [
    "#unification of education\n",
    "credit_scoring['education_lowercase'] = credit_scoring['education'].str.lower()\n",
    "credit_scoring['education'].value_counts()\n",
    "education_pivot = credit_scoring.pivot_table(index=['education_lowercase'],\n",
    "                                        columns = 'education_id',\n",
    "                                        values='gender',\n",
    "                                        aggfunc='count')\n",
    "education_pivot"
   ]
  },
  {
   "cell_type": "code",
   "execution_count": 22,
   "metadata": {},
   "outputs": [],
   "source": [
    "#Working with string variables - unifiying purposes\n",
    "wordnet_lemma = WordNetLemmatizer()\n",
    " \n",
    "def lemmatizing(text):\n",
    "    words = nltk.word_tokenize(text)\n",
    "    return [wordnet_lemma.lemmatize(w, pos = 'n') for w in words]\n",
    " \n",
    "credit_scoring['lemmas'] = credit_scoring['purpose'].apply(lemmatizing)"
   ]
  },
  {
   "cell_type": "code",
   "execution_count": 23,
   "metadata": {},
   "outputs": [
    {
     "data": {
      "text/plain": [
       "[('a', 5117),\n",
       " ('real', 4465),\n",
       " ('estate', 4465),\n",
       " ('car', 4308),\n",
       " ('purchase', 3306),\n",
       " ('education', 3110),\n",
       " ('to', 3071),\n",
       " ('of', 2994),\n",
       " ('transaction', 2604),\n",
       " ('property', 2539),\n",
       " ('my', 2390),\n",
       " ('buy', 2360),\n",
       " ('wedding', 2335),\n",
       " ('own', 2239),\n",
       " ('housing', 1905),\n",
       " ('house', 1904),\n",
       " ('buying', 1635),\n",
       " ('commercial', 1312),\n",
       " ('for', 1290),\n",
       " ('the', 1284),\n",
       " ('with', 1277),\n",
       " ('building', 1244),\n",
       " ('second-hand', 964),\n",
       " ('university', 948),\n",
       " ('supplementary', 907),\n",
       " ('getting', 868),\n",
       " ('ceremony', 793),\n",
       " ('having', 773),\n",
       " ('have', 769),\n",
       " ('renting', 652),\n",
       " ('out', 652),\n",
       " ('family', 638),\n",
       " ('construction', 635),\n",
       " ('renovation', 607),\n",
       " ('residential', 606),\n",
       " ('going', 496),\n",
       " ('get', 447),\n",
       " ('an', 442),\n",
       " ('profile', 436),\n",
       " ('higher', 426),\n",
       " ('become', 408),\n",
       " ('educated', 408)]"
      ]
     },
     "execution_count": 23,
     "metadata": {},
     "output_type": "execute_result"
    }
   ],
   "source": [
    "list_for_counter = list() \n",
    "for lemma in credit_scoring['purpose']:\n",
    "    lemma_list = lemmatizing(lemma)\n",
    "    list_for_counter.extend(lemma_list)\n",
    "\n",
    "cntr = Counter(list_for_counter)\n",
    "cntr.most_common()"
   ]
  },
  {
   "cell_type": "code",
   "execution_count": 25,
   "metadata": {},
   "outputs": [
    {
     "data": {
      "text/html": [
       "<div>\n",
       "<style scoped>\n",
       "    .dataframe tbody tr th:only-of-type {\n",
       "        vertical-align: middle;\n",
       "    }\n",
       "\n",
       "    .dataframe tbody tr th {\n",
       "        vertical-align: top;\n",
       "    }\n",
       "\n",
       "    .dataframe thead th {\n",
       "        text-align: right;\n",
       "    }\n",
       "</style>\n",
       "<table border=\"1\" class=\"dataframe\">\n",
       "  <thead>\n",
       "    <tr style=\"text-align: right;\">\n",
       "      <th></th>\n",
       "      <th>children</th>\n",
       "      <th>days_employed</th>\n",
       "      <th>dob_years</th>\n",
       "      <th>education</th>\n",
       "      <th>education_id</th>\n",
       "      <th>family_status</th>\n",
       "      <th>family_status_id</th>\n",
       "      <th>gender</th>\n",
       "      <th>income_type</th>\n",
       "      <th>debt</th>\n",
       "      <th>total_income</th>\n",
       "      <th>purpose</th>\n",
       "      <th>years_employed</th>\n",
       "      <th>education_lowercase</th>\n",
       "      <th>lemmas</th>\n",
       "    </tr>\n",
       "  </thead>\n",
       "  <tbody>\n",
       "    <tr>\n",
       "      <th>0</th>\n",
       "      <td>1</td>\n",
       "      <td>-8437.673028</td>\n",
       "      <td>42.0</td>\n",
       "      <td>bachelor's degree</td>\n",
       "      <td>0</td>\n",
       "      <td>married</td>\n",
       "      <td>0</td>\n",
       "      <td>F</td>\n",
       "      <td>employee</td>\n",
       "      <td>False</td>\n",
       "      <td>40620</td>\n",
       "      <td>purchase of the house</td>\n",
       "      <td>-23.116912</td>\n",
       "      <td>bachelor's degree</td>\n",
       "      <td>[purchase, of, the, house]</td>\n",
       "    </tr>\n",
       "    <tr>\n",
       "      <th>1</th>\n",
       "      <td>1</td>\n",
       "      <td>-4024.803754</td>\n",
       "      <td>36.0</td>\n",
       "      <td>secondary education</td>\n",
       "      <td>1</td>\n",
       "      <td>married</td>\n",
       "      <td>0</td>\n",
       "      <td>F</td>\n",
       "      <td>employee</td>\n",
       "      <td>False</td>\n",
       "      <td>17932</td>\n",
       "      <td>car purchase</td>\n",
       "      <td>-11.026860</td>\n",
       "      <td>secondary education</td>\n",
       "      <td>[car, purchase]</td>\n",
       "    </tr>\n",
       "    <tr>\n",
       "      <th>2</th>\n",
       "      <td>0</td>\n",
       "      <td>-5623.422610</td>\n",
       "      <td>33.0</td>\n",
       "      <td>Secondary Education</td>\n",
       "      <td>1</td>\n",
       "      <td>married</td>\n",
       "      <td>0</td>\n",
       "      <td>M</td>\n",
       "      <td>employee</td>\n",
       "      <td>False</td>\n",
       "      <td>23341</td>\n",
       "      <td>purchase of the house</td>\n",
       "      <td>-15.406637</td>\n",
       "      <td>secondary education</td>\n",
       "      <td>[purchase, of, the, house]</td>\n",
       "    </tr>\n",
       "    <tr>\n",
       "      <th>3</th>\n",
       "      <td>3</td>\n",
       "      <td>-4124.747207</td>\n",
       "      <td>32.0</td>\n",
       "      <td>secondary education</td>\n",
       "      <td>1</td>\n",
       "      <td>married</td>\n",
       "      <td>0</td>\n",
       "      <td>M</td>\n",
       "      <td>employee</td>\n",
       "      <td>False</td>\n",
       "      <td>42820</td>\n",
       "      <td>supplementary education</td>\n",
       "      <td>-11.300677</td>\n",
       "      <td>secondary education</td>\n",
       "      <td>[supplementary, education]</td>\n",
       "    </tr>\n",
       "    <tr>\n",
       "      <th>4</th>\n",
       "      <td>0</td>\n",
       "      <td>340266.072047</td>\n",
       "      <td>53.0</td>\n",
       "      <td>secondary education</td>\n",
       "      <td>1</td>\n",
       "      <td>civil partnership</td>\n",
       "      <td>1</td>\n",
       "      <td>F</td>\n",
       "      <td>retiree</td>\n",
       "      <td>False</td>\n",
       "      <td>25378</td>\n",
       "      <td>to have a wedding</td>\n",
       "      <td>932.235814</td>\n",
       "      <td>secondary education</td>\n",
       "      <td>[to, have, a, wedding]</td>\n",
       "    </tr>\n",
       "  </tbody>\n",
       "</table>\n",
       "</div>"
      ],
      "text/plain": [
       "   children  days_employed  dob_years            education  education_id  \\\n",
       "0         1   -8437.673028       42.0    bachelor's degree             0   \n",
       "1         1   -4024.803754       36.0  secondary education             1   \n",
       "2         0   -5623.422610       33.0  Secondary Education             1   \n",
       "3         3   -4124.747207       32.0  secondary education             1   \n",
       "4         0  340266.072047       53.0  secondary education             1   \n",
       "\n",
       "       family_status  family_status_id gender income_type   debt  \\\n",
       "0            married                 0      F    employee  False   \n",
       "1            married                 0      F    employee  False   \n",
       "2            married                 0      M    employee  False   \n",
       "3            married                 0      M    employee  False   \n",
       "4  civil partnership                 1      F     retiree  False   \n",
       "\n",
       "   total_income                  purpose  years_employed  education_lowercase  \\\n",
       "0         40620    purchase of the house      -23.116912    bachelor's degree   \n",
       "1         17932             car purchase      -11.026860  secondary education   \n",
       "2         23341    purchase of the house      -15.406637  secondary education   \n",
       "3         42820  supplementary education      -11.300677  secondary education   \n",
       "4         25378        to have a wedding      932.235814  secondary education   \n",
       "\n",
       "                       lemmas  \n",
       "0  [purchase, of, the, house]  \n",
       "1             [car, purchase]  \n",
       "2  [purchase, of, the, house]  \n",
       "3  [supplementary, education]  \n",
       "4      [to, have, a, wedding]  "
      ]
     },
     "execution_count": 25,
     "metadata": {},
     "output_type": "execute_result"
    }
   ],
   "source": [
    "credit_scoring.head()"
   ]
  },
  {
   "cell_type": "markdown",
   "metadata": {},
   "source": [
    "- 'education' - it appeared that just turning everything into lowercase helped to make a unified list witout additional editing. Also with the help of pivot table I have crossed 'education_lowercase' and 'education_id' to make sure that all the values are corresponded to each other\n",
    "- 'purpose' - in order to know which groups of purposes are I made a lemmatization and counted how ofter different words appear in the column. So the groups I will end with: car, wedding, education, real estate (including commercial, housing and renovation, construction). So, I am kinda frustrated of this part because I have googled a lot and used help, and I want to ask is there an easier solution? With different kind of loop?\n",
    "- I found 54 absolute duplicates and deleted them."
   ]
  },
  {
   "cell_type": "markdown",
   "metadata": {},
   "source": [
    "### Categorizing Data <a class=\"anchor\" id=\"section_2_4\"></a>"
   ]
  },
  {
   "cell_type": "code",
   "execution_count": 26,
   "metadata": {},
   "outputs": [
    {
     "data": {
      "text/plain": [
       "income_group\n",
       "high       2813\n",
       "low        7764\n",
       "medium    10893\n",
       "Name: total_income, dtype: int64"
      ]
     },
     "execution_count": 26,
     "metadata": {},
     "output_type": "execute_result"
    }
   ],
   "source": [
    "#firsly I need to decide which level of income will be a border for categories: low, medium, high\n",
    "#credit_scoring.sort_values(by='total_income', ascending = False).tail(50)\n",
    "#len(credit_scoring[credit_scoring['total_income'] >= 50000])\n",
    "#len(credit_scoring[credit_scoring['total_income'] <= 17000])\n",
    "#credit_scoring['total_income'].mean()\n",
    "#credit_scoring['total_income'].median()\n",
    "def income_group(total_income):\n",
    "    if total_income <= 20000:\n",
    "        return 'low'\n",
    "    if  total_income >= 40000:\n",
    "        return 'high'\n",
    "    return 'medium'\n",
    "#income_group(35000) - the function is working!\n",
    "\n",
    "credit_scoring['income_group'] = credit_scoring['total_income'].apply(income_group)\n",
    "credit_scoring.groupby('income_group')['total_income'].count()"
   ]
  },
  {
   "cell_type": "code",
   "execution_count": 27,
   "metadata": {},
   "outputs": [
    {
     "data": {
      "text/plain": [
       "income_group_check\n",
       "above the mean     8175\n",
       "below the mean    13295\n",
       "Name: total_income, dtype: int64"
      ]
     },
     "execution_count": 27,
     "metadata": {},
     "output_type": "execute_result"
    }
   ],
   "source": [
    "mean = credit_scoring['total_income'].mean()\n",
    "def income_group_check(total_income):\n",
    "    if total_income <= mean:\n",
    "        return 'below the mean'\n",
    "    return 'above the mean'\n",
    "credit_scoring['income_group_check'] = credit_scoring['total_income'].apply(income_group_check)\n",
    "credit_scoring.groupby('income_group_check')['total_income'].count()"
   ]
  },
  {
   "cell_type": "code",
   "execution_count": 28,
   "metadata": {},
   "outputs": [
    {
     "data": {
      "text/plain": [
       "purp_group\n",
       "car             4308\n",
       "education       4014\n",
       "real estate    10813\n",
       "wedding         2335\n",
       "Name: debt, dtype: int64"
      ]
     },
     "execution_count": 28,
     "metadata": {},
     "output_type": "execute_result"
    }
   ],
   "source": [
    "def purp_group(purpose):\n",
    "    if 'car' in purpose:\n",
    "        return 'car'\n",
    "    elif 'wedding' in purpose:\n",
    "        return 'wedding'\n",
    "    elif 'educa' in purpose or 'university' in purpose:\n",
    "        return 'education'\n",
    "    elif 'hous' in purpose or 'estat' in purpose or 'propert' in purpose:\n",
    "        return 'real estate'\n",
    "    return 'other'\n",
    "\n",
    "credit_scoring['purp_group'] = credit_scoring['purpose'].apply(purp_group)\n",
    "credit_scoring.groupby('purp_group')['debt'].count()"
   ]
  },
  {
   "cell_type": "markdown",
   "metadata": {},
   "source": [
    "- 'total_income' - to define the boarders for the groups by income I have checked mean/median, max/min values in the whole row. I have decided to take mean (26783) as focus. So the low income group will be lower than 20000, the high - bigger than 40000. I know it is kinda 'artifical'. If I knew how to do that, I would sort all the column and visualize it on the diagram, so I can evaluate the dispersion of values by myself, also some statistical operations could be used like precentiles or something similar.\n",
    "- basing on lemmatization I made up 4 groups of purposes."
   ]
  },
  {
   "cell_type": "markdown",
   "metadata": {},
   "source": [
    "[back to contents](#contents)"
   ]
  },
  {
   "cell_type": "markdown",
   "metadata": {},
   "source": [
    "### Analysis <a class=\"anchor\" id=\"chapter3\"></a>"
   ]
  },
  {
   "cell_type": "markdown",
   "metadata": {},
   "source": [
    "> <font color='darkblue'>Is there a relation between having kids and repaying a loan on time?</font> "
   ]
  },
  {
   "cell_type": "code",
   "execution_count": 29,
   "metadata": {},
   "outputs": [
    {
     "data": {
      "text/html": [
       "<div>\n",
       "<style scoped>\n",
       "    .dataframe tbody tr th:only-of-type {\n",
       "        vertical-align: middle;\n",
       "    }\n",
       "\n",
       "    .dataframe tbody tr th {\n",
       "        vertical-align: top;\n",
       "    }\n",
       "\n",
       "    .dataframe thead th {\n",
       "        text-align: right;\n",
       "    }\n",
       "</style>\n",
       "<table border=\"1\" class=\"dataframe\">\n",
       "  <thead>\n",
       "    <tr style=\"text-align: right;\">\n",
       "      <th></th>\n",
       "      <th>debts</th>\n",
       "      <th>total</th>\n",
       "      <th>default_rate</th>\n",
       "    </tr>\n",
       "    <tr>\n",
       "      <th>children</th>\n",
       "      <th></th>\n",
       "      <th></th>\n",
       "      <th></th>\n",
       "    </tr>\n",
       "  </thead>\n",
       "  <tbody>\n",
       "    <tr>\n",
       "      <th>4</th>\n",
       "      <td>4.0</td>\n",
       "      <td>41</td>\n",
       "      <td>0.097561</td>\n",
       "    </tr>\n",
       "    <tr>\n",
       "      <th>2</th>\n",
       "      <td>202.0</td>\n",
       "      <td>2128</td>\n",
       "      <td>0.094925</td>\n",
       "    </tr>\n",
       "    <tr>\n",
       "      <th>1</th>\n",
       "      <td>445.0</td>\n",
       "      <td>4856</td>\n",
       "      <td>0.091639</td>\n",
       "    </tr>\n",
       "    <tr>\n",
       "      <th>3</th>\n",
       "      <td>27.0</td>\n",
       "      <td>330</td>\n",
       "      <td>0.081818</td>\n",
       "    </tr>\n",
       "    <tr>\n",
       "      <th>0</th>\n",
       "      <td>1063.0</td>\n",
       "      <td>14106</td>\n",
       "      <td>0.075358</td>\n",
       "    </tr>\n",
       "    <tr>\n",
       "      <th>5</th>\n",
       "      <td>0.0</td>\n",
       "      <td>9</td>\n",
       "      <td>0.000000</td>\n",
       "    </tr>\n",
       "  </tbody>\n",
       "</table>\n",
       "</div>"
      ],
      "text/plain": [
       "           debts  total  default_rate\n",
       "children                             \n",
       "4            4.0     41      0.097561\n",
       "2          202.0   2128      0.094925\n",
       "1          445.0   4856      0.091639\n",
       "3           27.0    330      0.081818\n",
       "0         1063.0  14106      0.075358\n",
       "5            0.0      9      0.000000"
      ]
     },
     "execution_count": 29,
     "metadata": {},
     "output_type": "execute_result"
    }
   ],
   "source": [
    "pivot_kids = credit_scoring.pivot_table(index=['children'],\n",
    "                                        values = 'debt',\n",
    "                                        aggfunc = ['sum','count'])\n",
    "pivot_kids.set_axis(['debts', 'total'], axis = 'columns', inplace=True)\n",
    "pivot_kids['default_rate'] = pivot_kids['debts'] / pivot_kids['total']\n",
    "pivot_kids.sort_values(by = 'default_rate', ascending = False)"
   ]
  },
  {
   "cell_type": "code",
   "execution_count": 30,
   "metadata": {},
   "outputs": [
    {
     "data": {
      "text/html": [
       "<div>\n",
       "<style scoped>\n",
       "    .dataframe tbody tr th:only-of-type {\n",
       "        vertical-align: middle;\n",
       "    }\n",
       "\n",
       "    .dataframe tbody tr th {\n",
       "        vertical-align: top;\n",
       "    }\n",
       "\n",
       "    .dataframe thead th {\n",
       "        text-align: right;\n",
       "    }\n",
       "</style>\n",
       "<table border=\"1\" class=\"dataframe\">\n",
       "  <thead>\n",
       "    <tr style=\"text-align: right;\">\n",
       "      <th></th>\n",
       "      <th>debts</th>\n",
       "      <th>total</th>\n",
       "      <th>default_rate</th>\n",
       "    </tr>\n",
       "    <tr>\n",
       "      <th>kids_group</th>\n",
       "      <th></th>\n",
       "      <th></th>\n",
       "      <th></th>\n",
       "    </tr>\n",
       "  </thead>\n",
       "  <tbody>\n",
       "    <tr>\n",
       "      <th>kids</th>\n",
       "      <td>678.0</td>\n",
       "      <td>7364</td>\n",
       "      <td>0.092070</td>\n",
       "    </tr>\n",
       "    <tr>\n",
       "      <th>no kids</th>\n",
       "      <td>1063.0</td>\n",
       "      <td>14106</td>\n",
       "      <td>0.075358</td>\n",
       "    </tr>\n",
       "  </tbody>\n",
       "</table>\n",
       "</div>"
      ],
      "text/plain": [
       "             debts  total  default_rate\n",
       "kids_group                             \n",
       "kids         678.0   7364      0.092070\n",
       "no kids     1063.0  14106      0.075358"
      ]
     },
     "execution_count": 30,
     "metadata": {},
     "output_type": "execute_result"
    }
   ],
   "source": [
    "def kids_group(children):\n",
    "    if children == 0:\n",
    "        return 'no kids'\n",
    "    return 'kids'\n",
    "\n",
    "credit_scoring['kids_group'] = credit_scoring['children'].apply(kids_group)\n",
    "\n",
    "pivot_kids_new = credit_scoring.pivot_table(index=['kids_group'],\n",
    "                                        values = 'debt',\n",
    "                                        aggfunc = ['sum','count'])\n",
    "pivot_kids_new.set_axis(['debts', 'total'], axis = 'columns', inplace=True)\n",
    "pivot_kids_new['default_rate'] = pivot_kids_new['debts'] / pivot_kids_new['total']\n",
    "pivot_kids_new.sort_values(by = 'default_rate', ascending = False)"
   ]
  },
  {
   "cell_type": "markdown",
   "metadata": {},
   "source": [
    "So what do we see here? The highest possibility of default is for families with 4 kids. But could that be seriously taken into account? I am not sure because there are just 41 cases with 4 kids. But what we definetely see here is that default_rate is significantly lower if there are no kids at all.\n",
    "\n",
    "In general we can say that there is a correlation between having kids and repaying loan on time. But the number of kids is not that important, just having them rises the possibility of default."
   ]
  },
  {
   "cell_type": "markdown",
   "metadata": {},
   "source": [
    "> <font color='darkblue'>Is there a relation between marital status and repaying a loan on time?</font> "
   ]
  },
  {
   "cell_type": "code",
   "execution_count": 31,
   "metadata": {},
   "outputs": [
    {
     "data": {
      "text/html": [
       "<div>\n",
       "<style scoped>\n",
       "    .dataframe tbody tr th:only-of-type {\n",
       "        vertical-align: middle;\n",
       "    }\n",
       "\n",
       "    .dataframe tbody tr th {\n",
       "        vertical-align: top;\n",
       "    }\n",
       "\n",
       "    .dataframe thead th {\n",
       "        text-align: right;\n",
       "    }\n",
       "</style>\n",
       "<table border=\"1\" class=\"dataframe\">\n",
       "  <thead>\n",
       "    <tr style=\"text-align: right;\">\n",
       "      <th></th>\n",
       "      <th>debts</th>\n",
       "      <th>total</th>\n",
       "      <th>default_rate</th>\n",
       "    </tr>\n",
       "    <tr>\n",
       "      <th>family_status</th>\n",
       "      <th></th>\n",
       "      <th></th>\n",
       "      <th></th>\n",
       "    </tr>\n",
       "  </thead>\n",
       "  <tbody>\n",
       "    <tr>\n",
       "      <th>unmarried</th>\n",
       "      <td>274.0</td>\n",
       "      <td>2810</td>\n",
       "      <td>0.097509</td>\n",
       "    </tr>\n",
       "    <tr>\n",
       "      <th>civil partnership</th>\n",
       "      <td>388.0</td>\n",
       "      <td>4162</td>\n",
       "      <td>0.093224</td>\n",
       "    </tr>\n",
       "    <tr>\n",
       "      <th>married</th>\n",
       "      <td>931.0</td>\n",
       "      <td>12344</td>\n",
       "      <td>0.075421</td>\n",
       "    </tr>\n",
       "    <tr>\n",
       "      <th>divorced</th>\n",
       "      <td>85.0</td>\n",
       "      <td>1195</td>\n",
       "      <td>0.071130</td>\n",
       "    </tr>\n",
       "    <tr>\n",
       "      <th>widow / widower</th>\n",
       "      <td>63.0</td>\n",
       "      <td>959</td>\n",
       "      <td>0.065693</td>\n",
       "    </tr>\n",
       "  </tbody>\n",
       "</table>\n",
       "</div>"
      ],
      "text/plain": [
       "                   debts  total  default_rate\n",
       "family_status                                \n",
       "unmarried          274.0   2810      0.097509\n",
       "civil partnership  388.0   4162      0.093224\n",
       "married            931.0  12344      0.075421\n",
       "divorced            85.0   1195      0.071130\n",
       "widow / widower     63.0    959      0.065693"
      ]
     },
     "execution_count": 31,
     "metadata": {},
     "output_type": "execute_result"
    }
   ],
   "source": [
    "pivot_family = credit_scoring.pivot_table(index=['family_status'],\n",
    "                                        values = 'debt',\n",
    "                                        aggfunc = ['sum','count'])\n",
    "pivot_family.set_axis(['debts', 'total'], axis = 'columns', inplace=True)\n",
    "pivot_family['default_rate'] = pivot_family['debts'] / pivot_family['total']\n",
    "pivot_family.sort_values(by = 'default_rate', ascending = False)"
   ]
  },
  {
   "cell_type": "code",
   "execution_count": 32,
   "metadata": {},
   "outputs": [
    {
     "data": {
      "text/html": [
       "<div>\n",
       "<style scoped>\n",
       "    .dataframe tbody tr th:only-of-type {\n",
       "        vertical-align: middle;\n",
       "    }\n",
       "\n",
       "    .dataframe tbody tr th {\n",
       "        vertical-align: top;\n",
       "    }\n",
       "\n",
       "    .dataframe thead th {\n",
       "        text-align: right;\n",
       "    }\n",
       "</style>\n",
       "<table border=\"1\" class=\"dataframe\">\n",
       "  <thead>\n",
       "    <tr style=\"text-align: right;\">\n",
       "      <th></th>\n",
       "      <th>debts</th>\n",
       "      <th>total</th>\n",
       "      <th>default_rate</th>\n",
       "    </tr>\n",
       "    <tr>\n",
       "      <th>family_group</th>\n",
       "      <th></th>\n",
       "      <th></th>\n",
       "      <th></th>\n",
       "    </tr>\n",
       "  </thead>\n",
       "  <tbody>\n",
       "    <tr>\n",
       "      <th>single</th>\n",
       "      <td>422.0</td>\n",
       "      <td>4964</td>\n",
       "      <td>0.085012</td>\n",
       "    </tr>\n",
       "    <tr>\n",
       "      <th>not single</th>\n",
       "      <td>1319.0</td>\n",
       "      <td>16506</td>\n",
       "      <td>0.079910</td>\n",
       "    </tr>\n",
       "  </tbody>\n",
       "</table>\n",
       "</div>"
      ],
      "text/plain": [
       "               debts  total  default_rate\n",
       "family_group                             \n",
       "single         422.0   4964      0.085012\n",
       "not single    1319.0  16506      0.079910"
      ]
     },
     "execution_count": 32,
     "metadata": {},
     "output_type": "execute_result"
    }
   ],
   "source": [
    "def family_group(family_status):\n",
    "    if family_status == 'married' or family_status == 'civil partnership':\n",
    "        return 'not single'\n",
    "    return 'single'\n",
    "\n",
    "credit_scoring['family_group'] = credit_scoring['family_status'].apply(family_group)\n",
    "\n",
    "pivot_family_new = credit_scoring.pivot_table(index=['family_group'],\n",
    "                                        values = 'debt',\n",
    "                                        aggfunc = ['sum','count'])\n",
    "pivot_family_new.set_axis(['debts', 'total'], axis = 'columns', inplace=True)\n",
    "pivot_family_new['default_rate'] = pivot_family_new['debts'] / pivot_family_new['total']\n",
    "pivot_family_new.sort_values(by = 'default_rate', ascending = False)"
   ]
  },
  {
   "cell_type": "markdown",
   "metadata": {},
   "source": [
    "The situation here is more diverse. So as we see highest default rate within the group of unmarried but in the same time couples in civil partnership is also close to default probability.\n",
    "Additional grouping showed that in general for singles the probability of default is higher than for family-people.\n",
    "\n",
    "But I would say that there is not strong relation between marital status and default rate. Sounds logically, that couples are better in repaying loans just because they have more opportunities. But for mature divorced people or widow/er are also good in repaying, probably because they earn more or have less problems with responsibility."
   ]
  },
  {
   "cell_type": "markdown",
   "metadata": {},
   "source": [
    "> <font color='darkblue'>Is there a relation between income level and repaying a loan on time?</font>  "
   ]
  },
  {
   "cell_type": "code",
   "execution_count": 33,
   "metadata": {},
   "outputs": [
    {
     "data": {
      "text/html": [
       "<div>\n",
       "<style scoped>\n",
       "    .dataframe tbody tr th:only-of-type {\n",
       "        vertical-align: middle;\n",
       "    }\n",
       "\n",
       "    .dataframe tbody tr th {\n",
       "        vertical-align: top;\n",
       "    }\n",
       "\n",
       "    .dataframe thead th {\n",
       "        text-align: right;\n",
       "    }\n",
       "</style>\n",
       "<table border=\"1\" class=\"dataframe\">\n",
       "  <thead>\n",
       "    <tr style=\"text-align: right;\">\n",
       "      <th></th>\n",
       "      <th>debts</th>\n",
       "      <th>total</th>\n",
       "      <th>default_rate</th>\n",
       "    </tr>\n",
       "    <tr>\n",
       "      <th>income_group</th>\n",
       "      <th></th>\n",
       "      <th></th>\n",
       "      <th></th>\n",
       "    </tr>\n",
       "  </thead>\n",
       "  <tbody>\n",
       "    <tr>\n",
       "      <th>medium</th>\n",
       "      <td>904.0</td>\n",
       "      <td>10893</td>\n",
       "      <td>0.082989</td>\n",
       "    </tr>\n",
       "    <tr>\n",
       "      <th>low</th>\n",
       "      <td>643.0</td>\n",
       "      <td>7764</td>\n",
       "      <td>0.082818</td>\n",
       "    </tr>\n",
       "    <tr>\n",
       "      <th>high</th>\n",
       "      <td>194.0</td>\n",
       "      <td>2813</td>\n",
       "      <td>0.068966</td>\n",
       "    </tr>\n",
       "  </tbody>\n",
       "</table>\n",
       "</div>"
      ],
      "text/plain": [
       "              debts  total  default_rate\n",
       "income_group                            \n",
       "medium        904.0  10893      0.082989\n",
       "low           643.0   7764      0.082818\n",
       "high          194.0   2813      0.068966"
      ]
     },
     "execution_count": 33,
     "metadata": {},
     "output_type": "execute_result"
    }
   ],
   "source": [
    "pivot_income = credit_scoring.pivot_table(index=['income_group'],\n",
    "                                        values = 'debt',\n",
    "                                        aggfunc = ['sum','count'])\n",
    "pivot_income.set_axis(['debts', 'total'], axis = 'columns', inplace=True)\n",
    "pivot_income['default_rate'] = pivot_income['debts'] / pivot_income['total']\n",
    "pivot_income.sort_values(by = 'default_rate', ascending = False)"
   ]
  },
  {
   "cell_type": "code",
   "execution_count": 34,
   "metadata": {},
   "outputs": [
    {
     "data": {
      "text/html": [
       "<div>\n",
       "<style scoped>\n",
       "    .dataframe tbody tr th:only-of-type {\n",
       "        vertical-align: middle;\n",
       "    }\n",
       "\n",
       "    .dataframe tbody tr th {\n",
       "        vertical-align: top;\n",
       "    }\n",
       "\n",
       "    .dataframe thead th {\n",
       "        text-align: right;\n",
       "    }\n",
       "</style>\n",
       "<table border=\"1\" class=\"dataframe\">\n",
       "  <thead>\n",
       "    <tr style=\"text-align: right;\">\n",
       "      <th></th>\n",
       "      <th>debts</th>\n",
       "      <th>total</th>\n",
       "      <th>default_rate</th>\n",
       "    </tr>\n",
       "    <tr>\n",
       "      <th>income_group_check</th>\n",
       "      <th></th>\n",
       "      <th></th>\n",
       "      <th></th>\n",
       "    </tr>\n",
       "  </thead>\n",
       "  <tbody>\n",
       "    <tr>\n",
       "      <th>below the mean</th>\n",
       "      <td>1117.0</td>\n",
       "      <td>13295</td>\n",
       "      <td>0.084017</td>\n",
       "    </tr>\n",
       "    <tr>\n",
       "      <th>above the mean</th>\n",
       "      <td>624.0</td>\n",
       "      <td>8175</td>\n",
       "      <td>0.076330</td>\n",
       "    </tr>\n",
       "  </tbody>\n",
       "</table>\n",
       "</div>"
      ],
      "text/plain": [
       "                     debts  total  default_rate\n",
       "income_group_check                             \n",
       "below the mean      1117.0  13295      0.084017\n",
       "above the mean       624.0   8175      0.076330"
      ]
     },
     "execution_count": 34,
     "metadata": {},
     "output_type": "execute_result"
    }
   ],
   "source": [
    "pivot_income_check = credit_scoring.pivot_table(index=['income_group_check'],\n",
    "                                        values = 'debt',\n",
    "                                        aggfunc = ['sum','count'])\n",
    "pivot_income_check.set_axis(['debts', 'total'], axis = 'columns', inplace=True)\n",
    "pivot_income_check['default_rate'] = pivot_income_check['debts'] / pivot_income_check['total']\n",
    "pivot_income_check.sort_values(by = 'default_rate', ascending = False)"
   ]
  },
  {
   "cell_type": "markdown",
   "metadata": {},
   "source": [
    "So what we see here it is also kind of obvious result - the higher the level of income the lower the default rate. Additional comparisons I have made showed that there is significant difference between those getting more than avarege salary and those getting less. "
   ]
  },
  {
   "cell_type": "markdown",
   "metadata": {},
   "source": [
    "> <font color='darkblue'>How do different loan purposes affect on-time repayment of the loan?</font>  "
   ]
  },
  {
   "cell_type": "code",
   "execution_count": 35,
   "metadata": {},
   "outputs": [
    {
     "data": {
      "text/html": [
       "<div>\n",
       "<style scoped>\n",
       "    .dataframe tbody tr th:only-of-type {\n",
       "        vertical-align: middle;\n",
       "    }\n",
       "\n",
       "    .dataframe tbody tr th {\n",
       "        vertical-align: top;\n",
       "    }\n",
       "\n",
       "    .dataframe thead th {\n",
       "        text-align: right;\n",
       "    }\n",
       "</style>\n",
       "<table border=\"1\" class=\"dataframe\">\n",
       "  <thead>\n",
       "    <tr style=\"text-align: right;\">\n",
       "      <th></th>\n",
       "      <th>debts</th>\n",
       "      <th>total</th>\n",
       "      <th>default_rate</th>\n",
       "    </tr>\n",
       "    <tr>\n",
       "      <th>purp_group</th>\n",
       "      <th></th>\n",
       "      <th></th>\n",
       "      <th></th>\n",
       "    </tr>\n",
       "  </thead>\n",
       "  <tbody>\n",
       "    <tr>\n",
       "      <th>car</th>\n",
       "      <td>403.0</td>\n",
       "      <td>4308</td>\n",
       "      <td>0.093547</td>\n",
       "    </tr>\n",
       "    <tr>\n",
       "      <th>education</th>\n",
       "      <td>370.0</td>\n",
       "      <td>4014</td>\n",
       "      <td>0.092177</td>\n",
       "    </tr>\n",
       "    <tr>\n",
       "      <th>wedding</th>\n",
       "      <td>186.0</td>\n",
       "      <td>2335</td>\n",
       "      <td>0.079657</td>\n",
       "    </tr>\n",
       "    <tr>\n",
       "      <th>real estate</th>\n",
       "      <td>782.0</td>\n",
       "      <td>10813</td>\n",
       "      <td>0.072320</td>\n",
       "    </tr>\n",
       "  </tbody>\n",
       "</table>\n",
       "</div>"
      ],
      "text/plain": [
       "             debts  total  default_rate\n",
       "purp_group                             \n",
       "car          403.0   4308      0.093547\n",
       "education    370.0   4014      0.092177\n",
       "wedding      186.0   2335      0.079657\n",
       "real estate  782.0  10813      0.072320"
      ]
     },
     "execution_count": 35,
     "metadata": {},
     "output_type": "execute_result"
    }
   ],
   "source": [
    "pivot_purposes = credit_scoring.pivot_table(index=['purp_group'],\n",
    "                                        values = 'debt',\n",
    "                                        aggfunc = ['sum','count'])\n",
    "pivot_purposes.set_axis(['debts', 'total'], axis = 'columns', inplace=True)\n",
    "pivot_purposes['default_rate'] = pivot_purposes['debts'] / pivot_purposes['total']\n",
    "pivot_purposes.sort_values(by = 'default_rate', ascending = False)"
   ]
  },
  {
   "cell_type": "code",
   "execution_count": 36,
   "metadata": {},
   "outputs": [
    {
     "data": {
      "text/html": [
       "<div>\n",
       "<style scoped>\n",
       "    .dataframe tbody tr th:only-of-type {\n",
       "        vertical-align: middle;\n",
       "    }\n",
       "\n",
       "    .dataframe tbody tr th {\n",
       "        vertical-align: top;\n",
       "    }\n",
       "\n",
       "    .dataframe thead th {\n",
       "        text-align: right;\n",
       "    }\n",
       "</style>\n",
       "<table border=\"1\" class=\"dataframe\">\n",
       "  <thead>\n",
       "    <tr style=\"text-align: right;\">\n",
       "      <th></th>\n",
       "      <th>debts</th>\n",
       "      <th>total</th>\n",
       "      <th>default_rate</th>\n",
       "    </tr>\n",
       "    <tr>\n",
       "      <th>estate_group</th>\n",
       "      <th></th>\n",
       "      <th></th>\n",
       "      <th></th>\n",
       "    </tr>\n",
       "  </thead>\n",
       "  <tbody>\n",
       "    <tr>\n",
       "      <th>commercial estate</th>\n",
       "      <td>151.0</td>\n",
       "      <td>1964</td>\n",
       "      <td>0.076884</td>\n",
       "    </tr>\n",
       "    <tr>\n",
       "      <th>housing</th>\n",
       "      <td>631.0</td>\n",
       "      <td>8849</td>\n",
       "      <td>0.071307</td>\n",
       "    </tr>\n",
       "  </tbody>\n",
       "</table>\n",
       "</div>"
      ],
      "text/plain": [
       "                   debts  total  default_rate\n",
       "estate_group                                 \n",
       "commercial estate  151.0   1964      0.076884\n",
       "housing            631.0   8849      0.071307"
      ]
     },
     "execution_count": 36,
     "metadata": {},
     "output_type": "execute_result"
    }
   ],
   "source": [
    "estate_check = credit_scoring.loc[credit_scoring.purp_group == 'real estate'].copy()\n",
    "\n",
    "def estate_group(purpose):\n",
    "    if 'commerci' in purpose or 'rent' in purpose:\n",
    "        return 'commercial estate'\n",
    "    return 'housing'\n",
    "\n",
    "estate_check['estate_group'] = estate_check['purpose'].apply(estate_group)\n",
    "estate_check.groupby('estate_group')['debt'].count()\n",
    "\n",
    "pivot_estate = estate_check.pivot_table(index=['estate_group'],\n",
    "                                        values = 'debt',\n",
    "                                        aggfunc = ['sum','count'])\n",
    "pivot_estate.set_axis(['debts', 'total'], axis = 'columns', inplace=True)\n",
    "pivot_estate['default_rate'] = pivot_estate['debts'] / pivot_estate['total']\n",
    "pivot_estate.sort_values(by = 'default_rate', ascending = False)"
   ]
  },
  {
   "cell_type": "markdown",
   "metadata": {},
   "source": [
    "We received quite interesing results: the least reliable are those who intent to buy a car and who want to study. I may assume that situation with car buyers could be explained as that car purchase leads to significant increase in costs: gas, parking, service. Along with loan, it could be hard to bear.\n",
    "The second is education. Probably not all graduates succeed in finding job good enough for repaying a loan.\n",
    "The most reliable clients are real estate buyers. Comparing between commercial estate and housing commercial estate buyers are less  reliable that those buying house for family. This may be explained by economical factors, companys position on the market. Business is risk.\n",
    "And weddings are in the middle, but are definetely better loaners. I assume just married couples cover the loan after the wedding with the recieved money for presents."
   ]
  },
  {
   "cell_type": "markdown",
   "metadata": {},
   "source": [
    "[back to contents](#contents)"
   ]
  },
  {
   "cell_type": "markdown",
   "metadata": {},
   "source": [
    "### General conclusions <a class=\"anchor\" id=\"chapter4\"></a>"
   ]
  },
  {
   "cell_type": "markdown",
   "metadata": {},
   "source": [
    "Data check:\n",
    "The data was quite messy but fine. I have deleted several rows (duplicates, error in gender column). I have replaced missing values and errors. The biggest number of missing values was for total_incomes, replaced with median by income type groups. the trickiest was 'days_employed', thanks it is not in the analysis this time but in general the revealed situation showed that there is a significant problem in data input which leads to this results. This should be checked and reported on the level of data collection.\n",
    "\n",
    "Results:\n",
    "I would say in general that there are many factors influencing default rate. The most 'dangerous' loaners are singles, with kids, car buyers with medium and low income. The most reliable are couples, no kids, property buyers."
   ]
  },
  {
   "cell_type": "markdown",
   "metadata": {},
   "source": [
    "[back to contents](#contents)"
   ]
  },
  {
   "cell_type": "code",
   "execution_count": null,
   "metadata": {},
   "outputs": [],
   "source": []
  }
 ],
 "metadata": {
  "kernelspec": {
   "display_name": "Python 3",
   "language": "python",
   "name": "python3"
  },
  "language_info": {
   "codemirror_mode": {
    "name": "ipython",
    "version": 3
   },
   "file_extension": ".py",
   "mimetype": "text/x-python",
   "name": "python",
   "nbconvert_exporter": "python",
   "pygments_lexer": "ipython3",
   "version": "3.8.3"
  },
  "widgets": {
   "application/vnd.jupyter.widget-state+json": {
    "state": {},
    "version_major": 2,
    "version_minor": 0
   }
  }
 },
 "nbformat": 4,
 "nbformat_minor": 2
}
